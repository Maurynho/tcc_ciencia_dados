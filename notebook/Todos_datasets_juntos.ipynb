{
 "cells": [
  {
   "cell_type": "code",
   "execution_count": 10,
   "id": "dd42af1e",
   "metadata": {},
   "outputs": [
    {
     "ename": "ParserError",
     "evalue": "Error tokenizing data. C error: Calling read(nbytes) on source failed. Try engine='python'.",
     "output_type": "error",
     "traceback": [
      "\u001b[1;31m---------------------------------------------------------------------------\u001b[0m",
      "\u001b[1;31mParserError\u001b[0m                               Traceback (most recent call last)",
      "\u001b[1;32m<ipython-input-10-4d2532678699>\u001b[0m in \u001b[0;36m<module>\u001b[1;34m\u001b[0m\n\u001b[0;32m     14\u001b[0m dados_2016 = pd.concat(pd.read_csv(f'C://fontes_dados//operacoes_credito//2016//planilha_2016{mes}.csv',sep=';') \n\u001b[0;32m     15\u001b[0m                        for mes in ('01','02','03','04','05','06','07','08','09','10','11','12'))\n\u001b[1;32m---> 16\u001b[1;33m dados_2017 = pd.concat(pd.read_csv(f'C://fontes_dados//operacoes_credito//2017//planilha_2017{mes}.csv',sep=';') \n\u001b[0m\u001b[0;32m     17\u001b[0m                        for mes in ('01','02','03','04','05','06','07','08','09','10','11','12'))\n\u001b[0;32m     18\u001b[0m dados_2018 = pd.concat(pd.read_csv(f'C://fontes_dados//operacoes_credito//2018//planilha_2018{mes}.csv',sep=';') \n",
      "\u001b[1;32m~\\Anaconda3\\lib\\site-packages\\pandas\\core\\reshape\\concat.py\u001b[0m in \u001b[0;36mconcat\u001b[1;34m(objs, axis, join, ignore_index, keys, levels, names, verify_integrity, sort, copy)\u001b[0m\n\u001b[0;32m    283\u001b[0m     \u001b[0mValueError\u001b[0m\u001b[1;33m:\u001b[0m \u001b[0mIndexes\u001b[0m \u001b[0mhave\u001b[0m \u001b[0moverlapping\u001b[0m \u001b[0mvalues\u001b[0m\u001b[1;33m:\u001b[0m \u001b[1;33m[\u001b[0m\u001b[1;34m'a'\u001b[0m\u001b[1;33m]\u001b[0m\u001b[1;33m\u001b[0m\u001b[1;33m\u001b[0m\u001b[0m\n\u001b[0;32m    284\u001b[0m     \"\"\"\n\u001b[1;32m--> 285\u001b[1;33m     op = _Concatenator(\n\u001b[0m\u001b[0;32m    286\u001b[0m         \u001b[0mobjs\u001b[0m\u001b[1;33m,\u001b[0m\u001b[1;33m\u001b[0m\u001b[1;33m\u001b[0m\u001b[0m\n\u001b[0;32m    287\u001b[0m         \u001b[0maxis\u001b[0m\u001b[1;33m=\u001b[0m\u001b[0maxis\u001b[0m\u001b[1;33m,\u001b[0m\u001b[1;33m\u001b[0m\u001b[1;33m\u001b[0m\u001b[0m\n",
      "\u001b[1;32m~\\Anaconda3\\lib\\site-packages\\pandas\\core\\reshape\\concat.py\u001b[0m in \u001b[0;36m__init__\u001b[1;34m(self, objs, axis, join, keys, levels, names, ignore_index, verify_integrity, copy, sort)\u001b[0m\n\u001b[0;32m    337\u001b[0m             \u001b[0mobjs\u001b[0m \u001b[1;33m=\u001b[0m \u001b[1;33m[\u001b[0m\u001b[0mobjs\u001b[0m\u001b[1;33m[\u001b[0m\u001b[0mk\u001b[0m\u001b[1;33m]\u001b[0m \u001b[1;32mfor\u001b[0m \u001b[0mk\u001b[0m \u001b[1;32min\u001b[0m \u001b[0mkeys\u001b[0m\u001b[1;33m]\u001b[0m\u001b[1;33m\u001b[0m\u001b[1;33m\u001b[0m\u001b[0m\n\u001b[0;32m    338\u001b[0m         \u001b[1;32melse\u001b[0m\u001b[1;33m:\u001b[0m\u001b[1;33m\u001b[0m\u001b[1;33m\u001b[0m\u001b[0m\n\u001b[1;32m--> 339\u001b[1;33m             \u001b[0mobjs\u001b[0m \u001b[1;33m=\u001b[0m \u001b[0mlist\u001b[0m\u001b[1;33m(\u001b[0m\u001b[0mobjs\u001b[0m\u001b[1;33m)\u001b[0m\u001b[1;33m\u001b[0m\u001b[1;33m\u001b[0m\u001b[0m\n\u001b[0m\u001b[0;32m    340\u001b[0m \u001b[1;33m\u001b[0m\u001b[0m\n\u001b[0;32m    341\u001b[0m         \u001b[1;32mif\u001b[0m \u001b[0mlen\u001b[0m\u001b[1;33m(\u001b[0m\u001b[0mobjs\u001b[0m\u001b[1;33m)\u001b[0m \u001b[1;33m==\u001b[0m \u001b[1;36m0\u001b[0m\u001b[1;33m:\u001b[0m\u001b[1;33m\u001b[0m\u001b[1;33m\u001b[0m\u001b[0m\n",
      "\u001b[1;32m<ipython-input-10-4d2532678699>\u001b[0m in \u001b[0;36m<genexpr>\u001b[1;34m(.0)\u001b[0m\n\u001b[0;32m     14\u001b[0m dados_2016 = pd.concat(pd.read_csv(f'C://fontes_dados//operacoes_credito//2016//planilha_2016{mes}.csv',sep=';') \n\u001b[0;32m     15\u001b[0m                        for mes in ('01','02','03','04','05','06','07','08','09','10','11','12'))\n\u001b[1;32m---> 16\u001b[1;33m dados_2017 = pd.concat(pd.read_csv(f'C://fontes_dados//operacoes_credito//2017//planilha_2017{mes}.csv',sep=';') \n\u001b[0m\u001b[0;32m     17\u001b[0m                        for mes in ('01','02','03','04','05','06','07','08','09','10','11','12'))\n\u001b[0;32m     18\u001b[0m dados_2018 = pd.concat(pd.read_csv(f'C://fontes_dados//operacoes_credito//2018//planilha_2018{mes}.csv',sep=';') \n",
      "\u001b[1;32m~\\Anaconda3\\lib\\site-packages\\pandas\\io\\parsers.py\u001b[0m in \u001b[0;36mread_csv\u001b[1;34m(filepath_or_buffer, sep, delimiter, header, names, index_col, usecols, squeeze, prefix, mangle_dupe_cols, dtype, engine, converters, true_values, false_values, skipinitialspace, skiprows, skipfooter, nrows, na_values, keep_default_na, na_filter, verbose, skip_blank_lines, parse_dates, infer_datetime_format, keep_date_col, date_parser, dayfirst, cache_dates, iterator, chunksize, compression, thousands, decimal, lineterminator, quotechar, quoting, doublequote, escapechar, comment, encoding, dialect, error_bad_lines, warn_bad_lines, delim_whitespace, low_memory, memory_map, float_precision, storage_options)\u001b[0m\n\u001b[0;32m    608\u001b[0m     \u001b[0mkwds\u001b[0m\u001b[1;33m.\u001b[0m\u001b[0mupdate\u001b[0m\u001b[1;33m(\u001b[0m\u001b[0mkwds_defaults\u001b[0m\u001b[1;33m)\u001b[0m\u001b[1;33m\u001b[0m\u001b[1;33m\u001b[0m\u001b[0m\n\u001b[0;32m    609\u001b[0m \u001b[1;33m\u001b[0m\u001b[0m\n\u001b[1;32m--> 610\u001b[1;33m     \u001b[1;32mreturn\u001b[0m \u001b[0m_read\u001b[0m\u001b[1;33m(\u001b[0m\u001b[0mfilepath_or_buffer\u001b[0m\u001b[1;33m,\u001b[0m \u001b[0mkwds\u001b[0m\u001b[1;33m)\u001b[0m\u001b[1;33m\u001b[0m\u001b[1;33m\u001b[0m\u001b[0m\n\u001b[0m\u001b[0;32m    611\u001b[0m \u001b[1;33m\u001b[0m\u001b[0m\n\u001b[0;32m    612\u001b[0m \u001b[1;33m\u001b[0m\u001b[0m\n",
      "\u001b[1;32m~\\Anaconda3\\lib\\site-packages\\pandas\\io\\parsers.py\u001b[0m in \u001b[0;36m_read\u001b[1;34m(filepath_or_buffer, kwds)\u001b[0m\n\u001b[0;32m    466\u001b[0m \u001b[1;33m\u001b[0m\u001b[0m\n\u001b[0;32m    467\u001b[0m     \u001b[1;32mwith\u001b[0m \u001b[0mparser\u001b[0m\u001b[1;33m:\u001b[0m\u001b[1;33m\u001b[0m\u001b[1;33m\u001b[0m\u001b[0m\n\u001b[1;32m--> 468\u001b[1;33m         \u001b[1;32mreturn\u001b[0m \u001b[0mparser\u001b[0m\u001b[1;33m.\u001b[0m\u001b[0mread\u001b[0m\u001b[1;33m(\u001b[0m\u001b[0mnrows\u001b[0m\u001b[1;33m)\u001b[0m\u001b[1;33m\u001b[0m\u001b[1;33m\u001b[0m\u001b[0m\n\u001b[0m\u001b[0;32m    469\u001b[0m \u001b[1;33m\u001b[0m\u001b[0m\n\u001b[0;32m    470\u001b[0m \u001b[1;33m\u001b[0m\u001b[0m\n",
      "\u001b[1;32m~\\Anaconda3\\lib\\site-packages\\pandas\\io\\parsers.py\u001b[0m in \u001b[0;36mread\u001b[1;34m(self, nrows)\u001b[0m\n\u001b[0;32m   1055\u001b[0m     \u001b[1;32mdef\u001b[0m \u001b[0mread\u001b[0m\u001b[1;33m(\u001b[0m\u001b[0mself\u001b[0m\u001b[1;33m,\u001b[0m \u001b[0mnrows\u001b[0m\u001b[1;33m=\u001b[0m\u001b[1;32mNone\u001b[0m\u001b[1;33m)\u001b[0m\u001b[1;33m:\u001b[0m\u001b[1;33m\u001b[0m\u001b[1;33m\u001b[0m\u001b[0m\n\u001b[0;32m   1056\u001b[0m         \u001b[0mnrows\u001b[0m \u001b[1;33m=\u001b[0m \u001b[0mvalidate_integer\u001b[0m\u001b[1;33m(\u001b[0m\u001b[1;34m\"nrows\"\u001b[0m\u001b[1;33m,\u001b[0m \u001b[0mnrows\u001b[0m\u001b[1;33m)\u001b[0m\u001b[1;33m\u001b[0m\u001b[1;33m\u001b[0m\u001b[0m\n\u001b[1;32m-> 1057\u001b[1;33m         \u001b[0mindex\u001b[0m\u001b[1;33m,\u001b[0m \u001b[0mcolumns\u001b[0m\u001b[1;33m,\u001b[0m \u001b[0mcol_dict\u001b[0m \u001b[1;33m=\u001b[0m \u001b[0mself\u001b[0m\u001b[1;33m.\u001b[0m\u001b[0m_engine\u001b[0m\u001b[1;33m.\u001b[0m\u001b[0mread\u001b[0m\u001b[1;33m(\u001b[0m\u001b[0mnrows\u001b[0m\u001b[1;33m)\u001b[0m\u001b[1;33m\u001b[0m\u001b[1;33m\u001b[0m\u001b[0m\n\u001b[0m\u001b[0;32m   1058\u001b[0m \u001b[1;33m\u001b[0m\u001b[0m\n\u001b[0;32m   1059\u001b[0m         \u001b[1;32mif\u001b[0m \u001b[0mindex\u001b[0m \u001b[1;32mis\u001b[0m \u001b[1;32mNone\u001b[0m\u001b[1;33m:\u001b[0m\u001b[1;33m\u001b[0m\u001b[1;33m\u001b[0m\u001b[0m\n",
      "\u001b[1;32m~\\Anaconda3\\lib\\site-packages\\pandas\\io\\parsers.py\u001b[0m in \u001b[0;36mread\u001b[1;34m(self, nrows)\u001b[0m\n\u001b[0;32m   2059\u001b[0m     \u001b[1;32mdef\u001b[0m \u001b[0mread\u001b[0m\u001b[1;33m(\u001b[0m\u001b[0mself\u001b[0m\u001b[1;33m,\u001b[0m \u001b[0mnrows\u001b[0m\u001b[1;33m=\u001b[0m\u001b[1;32mNone\u001b[0m\u001b[1;33m)\u001b[0m\u001b[1;33m:\u001b[0m\u001b[1;33m\u001b[0m\u001b[1;33m\u001b[0m\u001b[0m\n\u001b[0;32m   2060\u001b[0m         \u001b[1;32mtry\u001b[0m\u001b[1;33m:\u001b[0m\u001b[1;33m\u001b[0m\u001b[1;33m\u001b[0m\u001b[0m\n\u001b[1;32m-> 2061\u001b[1;33m             \u001b[0mdata\u001b[0m \u001b[1;33m=\u001b[0m \u001b[0mself\u001b[0m\u001b[1;33m.\u001b[0m\u001b[0m_reader\u001b[0m\u001b[1;33m.\u001b[0m\u001b[0mread\u001b[0m\u001b[1;33m(\u001b[0m\u001b[0mnrows\u001b[0m\u001b[1;33m)\u001b[0m\u001b[1;33m\u001b[0m\u001b[1;33m\u001b[0m\u001b[0m\n\u001b[0m\u001b[0;32m   2062\u001b[0m         \u001b[1;32mexcept\u001b[0m \u001b[0mStopIteration\u001b[0m\u001b[1;33m:\u001b[0m\u001b[1;33m\u001b[0m\u001b[1;33m\u001b[0m\u001b[0m\n\u001b[0;32m   2063\u001b[0m             \u001b[1;32mif\u001b[0m \u001b[0mself\u001b[0m\u001b[1;33m.\u001b[0m\u001b[0m_first_chunk\u001b[0m\u001b[1;33m:\u001b[0m\u001b[1;33m\u001b[0m\u001b[1;33m\u001b[0m\u001b[0m\n",
      "\u001b[1;32mpandas\\_libs\\parsers.pyx\u001b[0m in \u001b[0;36mpandas._libs.parsers.TextReader.read\u001b[1;34m()\u001b[0m\n",
      "\u001b[1;32mpandas\\_libs\\parsers.pyx\u001b[0m in \u001b[0;36mpandas._libs.parsers.TextReader._read_low_memory\u001b[1;34m()\u001b[0m\n",
      "\u001b[1;32mpandas\\_libs\\parsers.pyx\u001b[0m in \u001b[0;36mpandas._libs.parsers.TextReader._read_rows\u001b[1;34m()\u001b[0m\n",
      "\u001b[1;32mpandas\\_libs\\parsers.pyx\u001b[0m in \u001b[0;36mpandas._libs.parsers.TextReader._tokenize_rows\u001b[1;34m()\u001b[0m\n",
      "\u001b[1;32mpandas\\_libs\\parsers.pyx\u001b[0m in \u001b[0;36mpandas._libs.parsers.raise_parser_error\u001b[1;34m()\u001b[0m\n",
      "\u001b[1;31mParserError\u001b[0m: Error tokenizing data. C error: Calling read(nbytes) on source failed. Try engine='python'."
     ]
    }
   ],
   "source": [
    "#Iniciando o carregamento de todas os datasets, lendo cada um dos arquivos referentes do mês e unindo todos em um\n",
    "#único dataset para cada ano. O ano de 2012 possui somente do mês de junho a dezembro, os demais possuem todos os 12\n",
    "#meses daquele ano\n",
    "import pandas as pd\n",
    "\n",
    "dados_2012 = pd.concat(pd.read_csv(f'C://fontes_dados//operacoes_credito//2012//planilha_2012{mes}.csv',sep=';') \n",
    "                       for mes in ('06','07','08','09','10','11','12'))\n",
    "dados_2013 = pd.concat(pd.read_csv(f'C://fontes_dados//operacoes_credito//2013//planilha_2013{mes}.csv',sep=';') \n",
    "                       for mes in ('01','02','03','04','05','06','07','08','09','10','11','12'))\n",
    "dados_2014 = pd.concat(pd.read_csv(f'C://fontes_dados//operacoes_credito//2014//planilha_2014{mes}.csv',sep=';') \n",
    "                       for mes in ('01','02','03','04','05','06','07','08','09','10','11','12'))\n",
    "dados_2015 = pd.concat(pd.read_csv(f'C://fontes_dados//operacoes_credito//2015//planilha_2015{mes}.csv',sep=';') \n",
    "                       for mes in ('01','02','03','04','05','06','07','08','09','10','11','12'))\n",
    "dados_2016 = pd.concat(pd.read_csv(f'C://fontes_dados//operacoes_credito//2016//planilha_2016{mes}.csv',sep=';') \n",
    "                       for mes in ('01','02','03','04','05','06','07','08','09','10','11','12'))\n",
    "dados_2017 = pd.concat(pd.read_csv(f'C://fontes_dados//operacoes_credito//2017//planilha_2017{mes}.csv',sep=';') \n",
    "                       for mes in ('01','02','03','04','05','06','07','08','09','10','11','12'))\n",
    "dados_2018 = pd.concat(pd.read_csv(f'C://fontes_dados//operacoes_credito//2018//planilha_2018{mes}.csv',sep=';') \n",
    "                       for mes in ('01','02','03','04','05','06','07','08','09','10','11','12'))\n",
    "dados_2019 = pd.concat(pd.read_csv(f'C://fontes_dados//operacoes_credito//2019//planilha_2019{mes}.csv',sep=';') \n",
    "                       for mes in ('01','02','03','04','05','06','07','08','09','10','11','12'))\n",
    "dados_2020 = pd.concat(pd.read_csv(f'C://fontes_dados//operacoes_credito//2020//planilha_2020{mes}.csv',sep=';') \n",
    "                       for mes in ('01','02','03','04','05','06','07','08','09','10','11','12'))\n",
    "dados_2021 = pd.concat(pd.read_csv(f'C://fontes_dados//operacoes_credito//2021//planilha_2021{mes}.csv',sep=';') \n",
    "                       for mes in ('01','02','03','04','05','06','07','08','09','10','11'))\n",
    "\n",
    "dados_2012.to_csv('C://fontes_dados//operacoes_credito//2012//dados_credito_2012.csv',sep=';')\n",
    "dados_2013.to_csv('C://fontes_dados//operacoes_credito//2013//dados_credito_2013.csv',sep=';')\n",
    "dados_2014.to_csv('C://fontes_dados//operacoes_credito//2014//dados_credito_2014.csv',sep=';')\n",
    "dados_2015.to_csv('C://fontes_dados//operacoes_credito//2015//dados_credito_2015.csv',sep=';')\n",
    "dados_2016.to_csv('C://fontes_dados//operacoes_credito//2016//dados_credito_2016.csv',sep=';')\n",
    "dados_2017.to_csv('C://fontes_dados//operacoes_credito//2017//dados_credito_2017.csv',sep=';')\n",
    "dados_2018.to_csv('C://fontes_dados//operacoes_credito//2018//dados_credito_2018.csv',sep=';')\n",
    "dados_2019.to_csv('C://fontes_dados//operacoes_credito//2019//dados_credito_2019.csv',sep=';')\n",
    "dados_2020.to_csv('C://fontes_dados//operacoes_credito//2020//dados_credito_2020.csv',sep=';')\n",
    "dados_2021.to_csv('C://fontes_dados//operacoes_credito//2021//dados_credito_2021.csv',sep=';')\n",
    "\n"
   ]
  },
  {
   "cell_type": "code",
   "execution_count": 44,
   "id": "1b6954d1",
   "metadata": {},
   "outputs": [
    {
     "name": "stderr",
     "output_type": "stream",
     "text": [
      "<ipython-input-44-35d8ddf2188e>:26: SettingWithCopyWarning: \n",
      "A value is trying to be set on a copy of a slice from a DataFrame.\n",
      "Try using .loc[row_indexer,col_indexer] = value instead\n",
      "\n",
      "See the caveats in the documentation: https://pandas.pydata.org/pandas-docs/stable/user_guide/indexing.html#returning-a-view-versus-a-copy\n",
      "  dados_2012['carteira_ativa'] = dados_2012['carteira_ativa'].replace(',','.', regex=True)\n",
      "<ipython-input-44-35d8ddf2188e>:27: SettingWithCopyWarning: \n",
      "A value is trying to be set on a copy of a slice from a DataFrame.\n",
      "Try using .loc[row_indexer,col_indexer] = value instead\n",
      "\n",
      "See the caveats in the documentation: https://pandas.pydata.org/pandas-docs/stable/user_guide/indexing.html#returning-a-view-versus-a-copy\n",
      "  dados_2012['carteira_ativa'] = pd.to_numeric(dados_2012['carteira_ativa'])\n",
      "<ipython-input-44-35d8ddf2188e>:30: SettingWithCopyWarning: \n",
      "A value is trying to be set on a copy of a slice from a DataFrame.\n",
      "Try using .loc[row_indexer,col_indexer] = value instead\n",
      "\n",
      "See the caveats in the documentation: https://pandas.pydata.org/pandas-docs/stable/user_guide/indexing.html#returning-a-view-versus-a-copy\n",
      "  dados_2012['data_base'] = dados_2012['data_base'].replace('-','/', regex=True)\n",
      "<ipython-input-44-35d8ddf2188e>:31: SettingWithCopyWarning: \n",
      "A value is trying to be set on a copy of a slice from a DataFrame.\n",
      "Try using .loc[row_indexer,col_indexer] = value instead\n",
      "\n",
      "See the caveats in the documentation: https://pandas.pydata.org/pandas-docs/stable/user_guide/indexing.html#returning-a-view-versus-a-copy\n",
      "  dados_2012['data_base'] = pd.to_datetime(dados_2012['data_base'], format= \"%Y/%M/%d\")\n",
      "<ipython-input-44-35d8ddf2188e>:32: SettingWithCopyWarning: \n",
      "A value is trying to be set on a copy of a slice from a DataFrame.\n",
      "Try using .loc[row_indexer,col_indexer] = value instead\n",
      "\n",
      "See the caveats in the documentation: https://pandas.pydata.org/pandas-docs/stable/user_guide/indexing.html#returning-a-view-versus-a-copy\n",
      "  dados_2012['data_base'] = pd.to_datetime(dados_2012['data_base']).dt.normalize()\n"
     ]
    },
    {
     "name": "stdout",
     "output_type": "stream",
     "text": [
      "<class 'pandas.core.frame.DataFrame'>\n",
      "Int64Index: 489588 entries, 2994 to 465366\n",
      "Data columns (total 8 columns):\n",
      " #   Column               Non-Null Count   Dtype         \n",
      "---  ------               --------------   -----         \n",
      " 0   data_base            489588 non-null  datetime64[ns]\n",
      " 1   uf                   489588 non-null  object        \n",
      " 2   tcb                  489588 non-null  object        \n",
      " 3   cliente              489588 non-null  object        \n",
      " 4   ocupacao             489588 non-null  object        \n",
      " 5   modalidade           489588 non-null  object        \n",
      " 6   numero_de_operacoes  489588 non-null  int64         \n",
      " 7   carteira_ativa       489588 non-null  float64       \n",
      "dtypes: datetime64[ns](1), float64(1), int64(1), object(5)\n",
      "memory usage: 33.6+ MB\n"
     ]
    }
   ],
   "source": [
    "#Removendo as colunas que se sabe que não serão utilizadas\n",
    "del dados_2012['sr']\n",
    "del dados_2012['cnae_secao']\n",
    "del dados_2012['cnae_subclasse']\n",
    "del dados_2012['origem']\n",
    "del dados_2012['indexador']\n",
    "del dados_2012['porte']\n",
    "del dados_2012['a_vencer_ate_90_dias']\n",
    "del dados_2012['a_vencer_de_91_ate_360_dias']\n",
    "del dados_2012['a_vencer_de_361_ate_1080_dias']   \n",
    "del dados_2012['a_vencer_de_1081_ate_1800_dias']  \n",
    "del dados_2012['a_vencer_de_1801_ate_5400_dias']  \n",
    "del dados_2012['a_vencer_acima_de_5400_dias']     \n",
    "del dados_2012['vencido_acima_de_15_dias']      \n",
    "del dados_2012['carteira_inadimplida_arrastada']\n",
    "del dados_2012['ativo_problematico']\n",
    "\n",
    "#Tratando o número de operações\n",
    "dados_2012['numero_de_operacoes'].replace('<= 15','15', inplace = True)\n",
    "dados_2012['numero_de_operacoes'] = pd.to_numeric(dados_2012['numero_de_operacoes'])\n",
    "\n",
    "#Filtrando somente registros de Cooperativas\n",
    "dados_2012 = dados_2012.query('tcb == \"Cooperativas\"')\n",
    "\n",
    "#Tratando o campo da carteira ativa\n",
    "dados_2012['carteira_ativa'] = dados_2012['carteira_ativa'].replace(',','.', regex=True)\n",
    "dados_2012['carteira_ativa'] = pd.to_numeric(dados_2012['carteira_ativa'])\n",
    "\n",
    "#Tratando o campo da data\n",
    "dados_2012['data_base'] = dados_2012['data_base'].replace('-','/', regex=True)\n",
    "dados_2012['data_base'] = pd.to_datetime(dados_2012['data_base'], format= \"%Y/%M/%d\")\n",
    "dados_2012['data_base'] = pd.to_datetime(dados_2012['data_base']).dt.normalize()\n",
    "\n",
    "dados_2012.info()\n",
    "dados_2012.to_csv('C://fontes_dados//operacoes_credito//dados_2012')\n",
    "\n"
   ]
  },
  {
   "cell_type": "code",
   "execution_count": 26,
   "id": "ba0995e7",
   "metadata": {},
   "outputs": [
    {
     "name": "stdout",
     "output_type": "stream",
     "text": [
      "<class 'pandas.core.frame.DataFrame'>\n",
      "Int64Index: 923431 entries, 3083 to 5626637\n",
      "Data columns (total 8 columns):\n",
      " #   Column               Non-Null Count   Dtype         \n",
      "---  ------               --------------   -----         \n",
      " 0   data_base            923431 non-null  datetime64[ns]\n",
      " 1   uf                   923431 non-null  object        \n",
      " 2   tcb                  923431 non-null  object        \n",
      " 3   cliente              923431 non-null  object        \n",
      " 4   ocupacao             923431 non-null  object        \n",
      " 5   modalidade           923431 non-null  object        \n",
      " 6   numero_de_operacoes  923431 non-null  int64         \n",
      " 7   carteira_ativa       923431 non-null  float64       \n",
      "dtypes: datetime64[ns](1), float64(1), int64(1), object(5)\n",
      "memory usage: 63.4+ MB\n"
     ]
    }
   ],
   "source": [
    "#Carregando arquivo do ano de 2013\n",
    "import pandas as pd\n",
    "dados_2013 = pd.read_csv('C://fontes_dados//operacoes_credito//2013//dados_credito_2013.csv',sep=';') \n",
    "\n",
    "#Removendo as colunas que se sabe que não serão utilizadas\n",
    "del dados_2013['Unnamed: 0']\n",
    "del dados_2013['sr']\n",
    "del dados_2013['cnae_secao']\n",
    "del dados_2013['cnae_subclasse']\n",
    "del dados_2013['origem']\n",
    "del dados_2013['indexador']\n",
    "del dados_2013['porte']\n",
    "del dados_2013['a_vencer_ate_90_dias']\n",
    "del dados_2013['a_vencer_de_91_ate_360_dias']\n",
    "del dados_2013['a_vencer_de_361_ate_1080_dias']   \n",
    "del dados_2013['a_vencer_de_1081_ate_1800_dias']  \n",
    "del dados_2013['a_vencer_de_1801_ate_5400_dias']  \n",
    "del dados_2013['a_vencer_acima_de_5400_dias']     \n",
    "del dados_2013['vencido_acima_de_15_dias']      \n",
    "del dados_2013['carteira_inadimplida_arrastada']\n",
    "del dados_2013['ativo_problematico']\n",
    "\n",
    "#Tratando o número de operações\n",
    "dados_2013['numero_de_operacoes'].replace('<= 15','15', inplace = True)\n",
    "dados_2013['numero_de_operacoes'] = pd.to_numeric(dados_2013['numero_de_operacoes'])\n",
    "\n",
    "#Filtrando somente registros de Cooperativas\n",
    "dados_2013 = dados_2013.query('tcb == \"Cooperativas\"')\n",
    "\n",
    "#Tratando o campo da carteira ativa\n",
    "dados_2013['carteira_ativa'] = dados_2013['carteira_ativa'].replace(',','.', regex=True)\n",
    "dados_2013['carteira_ativa'] = pd.to_numeric(dados_2013['carteira_ativa'])\n",
    "\n",
    "#Tratando o campo da data\n",
    "dados_2013['data_base'] = dados_2013['data_base'].replace('-','/', regex=True)\n",
    "dados_2013['data_base'] = pd.to_datetime(dados_2013['data_base'], format= \"%Y/%M/%d\")\n",
    "dados_2013['data_base'] = pd.to_datetime(dados_2013['data_base']).dt.normalize()\n",
    "\n",
    "dados_2013.info()\n",
    "dados_2013.to_csv('C://fontes_dados//operacoes_credito//dados_2013')\n"
   ]
  },
  {
   "cell_type": "code",
   "execution_count": 27,
   "id": "c94a44f0",
   "metadata": {},
   "outputs": [
    {
     "name": "stdout",
     "output_type": "stream",
     "text": [
      "<class 'pandas.core.frame.DataFrame'>\n",
      "Int64Index: 996979 entries, 3119 to 5646664\n",
      "Data columns (total 8 columns):\n",
      " #   Column               Non-Null Count   Dtype         \n",
      "---  ------               --------------   -----         \n",
      " 0   data_base            996979 non-null  datetime64[ns]\n",
      " 1   uf                   996979 non-null  object        \n",
      " 2   tcb                  996979 non-null  object        \n",
      " 3   cliente              996979 non-null  object        \n",
      " 4   ocupacao             996979 non-null  object        \n",
      " 5   modalidade           996979 non-null  object        \n",
      " 6   numero_de_operacoes  996979 non-null  int64         \n",
      " 7   carteira_ativa       996979 non-null  float64       \n",
      "dtypes: datetime64[ns](1), float64(1), int64(1), object(5)\n",
      "memory usage: 68.5+ MB\n"
     ]
    }
   ],
   "source": [
    "#Carregando arquivo do ano de 2014\n",
    "import pandas as pd\n",
    "dados_2014 = pd.read_csv('C://fontes_dados//operacoes_credito//2014//dados_credito_2014.csv',sep=';') \n",
    "\n",
    "#Removendo as colunas que se sabe que não serão utilizadas\n",
    "del dados_2014['Unnamed: 0']\n",
    "del dados_2014['sr']\n",
    "del dados_2014['cnae_secao']\n",
    "del dados_2014['cnae_subclasse']\n",
    "del dados_2014['origem']\n",
    "del dados_2014['indexador']\n",
    "del dados_2014['porte']\n",
    "del dados_2014['a_vencer_ate_90_dias']\n",
    "del dados_2014['a_vencer_de_91_ate_360_dias']\n",
    "del dados_2014['a_vencer_de_361_ate_1080_dias']   \n",
    "del dados_2014['a_vencer_de_1081_ate_1800_dias']  \n",
    "del dados_2014['a_vencer_de_1801_ate_5400_dias']  \n",
    "del dados_2014['a_vencer_acima_de_5400_dias']     \n",
    "del dados_2014['vencido_acima_de_15_dias']      \n",
    "del dados_2014['carteira_inadimplida_arrastada']\n",
    "del dados_2014['ativo_problematico']\n",
    "\n",
    "#Tratando o número de operações\n",
    "dados_2014['numero_de_operacoes'].replace('<= 15','15', inplace = True)\n",
    "dados_2014['numero_de_operacoes'] = pd.to_numeric(dados_2014['numero_de_operacoes'])\n",
    "\n",
    "#Filtrando somente registros de Cooperativas\n",
    "dados_2014 = dados_2014.query('tcb == \"Cooperativas\"')\n",
    "\n",
    "#Tratando o campo da carteira ativa\n",
    "dados_2014['carteira_ativa'] = dados_2014['carteira_ativa'].replace(',','.', regex=True)\n",
    "dados_2014['carteira_ativa'] = pd.to_numeric(dados_2014['carteira_ativa'])\n",
    "\n",
    "#Tratando o campo da data\n",
    "dados_2014['data_base'] = dados_2014['data_base'].replace('-','/', regex=True)\n",
    "dados_2014['data_base'] = pd.to_datetime(dados_2014['data_base'], format= \"%Y/%M/%d\")\n",
    "dados_2014['data_base'] = pd.to_datetime(dados_2014['data_base']).dt.normalize()\n",
    "\n",
    "dados_2014.info()\n",
    "dados_2014.to_csv('C://fontes_dados//operacoes_credito//dados_2014')\n",
    "\n"
   ]
  },
  {
   "cell_type": "code",
   "execution_count": 28,
   "id": "cb8b3559",
   "metadata": {},
   "outputs": [
    {
     "name": "stdout",
     "output_type": "stream",
     "text": [
      "<class 'pandas.core.frame.DataFrame'>\n",
      "Int64Index: 1099063 entries, 3314 to 5641162\n",
      "Data columns (total 8 columns):\n",
      " #   Column               Non-Null Count    Dtype         \n",
      "---  ------               --------------    -----         \n",
      " 0   data_base            1099063 non-null  datetime64[ns]\n",
      " 1   uf                   1099063 non-null  object        \n",
      " 2   tcb                  1099063 non-null  object        \n",
      " 3   cliente              1099063 non-null  object        \n",
      " 4   ocupacao             1099063 non-null  object        \n",
      " 5   modalidade           1099063 non-null  object        \n",
      " 6   numero_de_operacoes  1099063 non-null  int64         \n",
      " 7   carteira_ativa       1099063 non-null  float64       \n",
      "dtypes: datetime64[ns](1), float64(1), int64(1), object(5)\n",
      "memory usage: 75.5+ MB\n"
     ]
    }
   ],
   "source": [
    "#Carregando arquivo do ano de 2015\n",
    "import pandas as pd\n",
    "dados_2015 = pd.read_csv('C://fontes_dados//operacoes_credito//2015//dados_credito_2015.csv',sep=';') \n",
    "\n",
    "#Removendo as colunas que se sabe que não serão utilizadas\n",
    "del dados_2015['Unnamed: 0']\n",
    "del dados_2015['sr']\n",
    "del dados_2015['cnae_secao']\n",
    "del dados_2015['cnae_subclasse']\n",
    "del dados_2015['origem']\n",
    "del dados_2015['indexador']\n",
    "del dados_2015['porte']\n",
    "del dados_2015['a_vencer_ate_90_dias']\n",
    "del dados_2015['a_vencer_de_91_ate_360_dias']\n",
    "del dados_2015['a_vencer_de_361_ate_1080_dias']   \n",
    "del dados_2015['a_vencer_de_1081_ate_1800_dias']  \n",
    "del dados_2015['a_vencer_de_1801_ate_5400_dias']  \n",
    "del dados_2015['a_vencer_acima_de_5400_dias']     \n",
    "del dados_2015['vencido_acima_de_15_dias']      \n",
    "del dados_2015['carteira_inadimplida_arrastada']\n",
    "del dados_2015['ativo_problematico']\n",
    "\n",
    "#Tratando o número de operações\n",
    "dados_2015['numero_de_operacoes'].replace('<= 15','15', inplace = True)\n",
    "dados_2015['numero_de_operacoes'] = pd.to_numeric(dados_2015['numero_de_operacoes'])\n",
    "\n",
    "#Filtrando somente registros de Cooperativas\n",
    "dados_2015 = dados_2015.query('tcb == \"Cooperativas\"')\n",
    "\n",
    "#Tratando o campo da carteira ativa\n",
    "dados_2015['carteira_ativa'] = dados_2015['carteira_ativa'].replace(',','.', regex=True)\n",
    "dados_2015['carteira_ativa'] = pd.to_numeric(dados_2015['carteira_ativa'])\n",
    "\n",
    "#Tratando o campo da data\n",
    "dados_2015['data_base'] = dados_2015['data_base'].replace('-','/', regex=True)\n",
    "dados_2015['data_base'] = pd.to_datetime(dados_2015['data_base'], format= \"%Y/%M/%d\")\n",
    "dados_2015['data_base'] = pd.to_datetime(dados_2015['data_base']).dt.normalize()\n",
    "\n",
    "dados_2015.info()\n",
    "dados_2015.to_csv('C://fontes_dados//operacoes_credito//dados_2015')\n",
    "\n"
   ]
  },
  {
   "cell_type": "code",
   "execution_count": 29,
   "id": "8c4414b8",
   "metadata": {},
   "outputs": [
    {
     "name": "stdout",
     "output_type": "stream",
     "text": [
      "<class 'pandas.core.frame.DataFrame'>\n",
      "Int64Index: 1179425 entries, 3443 to 5699393\n",
      "Data columns (total 8 columns):\n",
      " #   Column               Non-Null Count    Dtype         \n",
      "---  ------               --------------    -----         \n",
      " 0   data_base            1179425 non-null  datetime64[ns]\n",
      " 1   uf                   1179425 non-null  object        \n",
      " 2   tcb                  1179425 non-null  object        \n",
      " 3   cliente              1179425 non-null  object        \n",
      " 4   ocupacao             1179425 non-null  object        \n",
      " 5   modalidade           1179425 non-null  object        \n",
      " 6   numero_de_operacoes  1179425 non-null  int64         \n",
      " 7   carteira_ativa       1179425 non-null  float64       \n",
      "dtypes: datetime64[ns](1), float64(1), int64(1), object(5)\n",
      "memory usage: 81.0+ MB\n"
     ]
    }
   ],
   "source": [
    "#Carregando arquivo do ano de 2016\n",
    "import pandas as pd\n",
    "dados_2016 = pd.read_csv('C://fontes_dados//operacoes_credito//2016//dados_credito_2016.csv',sep=';') \n",
    "\n",
    "#Removendo as colunas que se sabe que não serão utilizadas\n",
    "del dados_2016['Unnamed: 0']\n",
    "del dados_2016['sr']\n",
    "del dados_2016['cnae_secao']\n",
    "del dados_2016['cnae_subclasse']\n",
    "del dados_2016['origem']\n",
    "del dados_2016['indexador']\n",
    "del dados_2016['porte']\n",
    "del dados_2016['a_vencer_ate_90_dias']\n",
    "del dados_2016['a_vencer_de_91_ate_360_dias']\n",
    "del dados_2016['a_vencer_de_361_ate_1080_dias']   \n",
    "del dados_2016['a_vencer_de_1081_ate_1800_dias']  \n",
    "del dados_2016['a_vencer_de_1801_ate_5400_dias']  \n",
    "del dados_2016['a_vencer_acima_de_5400_dias']     \n",
    "del dados_2016['vencido_acima_de_15_dias']      \n",
    "del dados_2016['carteira_inadimplida_arrastada']\n",
    "del dados_2016['ativo_problematico']\n",
    "\n",
    "#Tratando o número de operações\n",
    "dados_2016['numero_de_operacoes'].replace('<= 15','15', inplace = True)\n",
    "dados_2016['numero_de_operacoes'] = pd.to_numeric(dados_2016['numero_de_operacoes'])\n",
    "\n",
    "#Filtrando somente registros de Cooperativas\n",
    "dados_2016 = dados_2016.query('tcb == \"Cooperativas\"')\n",
    "\n",
    "#Tratando o campo da carteira ativa\n",
    "dados_2016['carteira_ativa'] = dados_2016['carteira_ativa'].replace(',','.', regex=True)\n",
    "dados_2016['carteira_ativa'] = pd.to_numeric(dados_2016['carteira_ativa'])\n",
    "\n",
    "#Tratando o campo da data\n",
    "dados_2016['data_base'] = dados_2016['data_base'].replace('-','/', regex=True)\n",
    "dados_2016['data_base'] = pd.to_datetime(dados_2016['data_base'], format= \"%Y/%M/%d\")\n",
    "dados_2016['data_base'] = pd.to_datetime(dados_2016['data_base']).dt.normalize()\n",
    "\n",
    "dados_2016.info()\n",
    "dados_2016.to_csv('C://fontes_dados//operacoes_credito//dados_2016')\n",
    "\n"
   ]
  },
  {
   "cell_type": "code",
   "execution_count": 30,
   "id": "e017c5ac",
   "metadata": {},
   "outputs": [
    {
     "name": "stdout",
     "output_type": "stream",
     "text": [
      "<class 'pandas.core.frame.DataFrame'>\n",
      "Int64Index: 1536048 entries, 4262 to 7513790\n",
      "Data columns (total 8 columns):\n",
      " #   Column               Non-Null Count    Dtype         \n",
      "---  ------               --------------    -----         \n",
      " 0   data_base            1536048 non-null  datetime64[ns]\n",
      " 1   uf                   1536048 non-null  object        \n",
      " 2   tcb                  1536048 non-null  object        \n",
      " 3   cliente              1536048 non-null  object        \n",
      " 4   ocupacao             1536048 non-null  object        \n",
      " 5   modalidade           1536048 non-null  object        \n",
      " 6   numero_de_operacoes  1536048 non-null  int64         \n",
      " 7   carteira_ativa       1536048 non-null  float64       \n",
      "dtypes: datetime64[ns](1), float64(1), int64(1), object(5)\n",
      "memory usage: 105.5+ MB\n"
     ]
    }
   ],
   "source": [
    "#Carregando arquivo do ano de 2017\n",
    "import pandas as pd\n",
    "dados_2017 = pd.read_csv('C://fontes_dados//operacoes_credito//2017//dados_credito_2017.csv',sep=';') \n",
    "\n",
    "#Removendo as colunas que se sabe que não serão utilizadas\n",
    "del dados_2017['Unnamed: 0']\n",
    "del dados_2017['sr']\n",
    "del dados_2017['cnae_secao']\n",
    "del dados_2017['cnae_subclasse']\n",
    "del dados_2017['origem']\n",
    "del dados_2017['indexador']\n",
    "del dados_2017['porte']\n",
    "del dados_2017['a_vencer_ate_90_dias']\n",
    "del dados_2017['a_vencer_de_91_ate_360_dias']\n",
    "del dados_2017['a_vencer_de_361_ate_1080_dias']   \n",
    "del dados_2017['a_vencer_de_1081_ate_1800_dias']  \n",
    "del dados_2017['a_vencer_de_1801_ate_5400_dias']  \n",
    "del dados_2017['a_vencer_acima_de_5400_dias']     \n",
    "del dados_2017['vencido_acima_de_15_dias']      \n",
    "del dados_2017['carteira_inadimplida_arrastada']\n",
    "del dados_2017['ativo_problematico']\n",
    "\n",
    "#Tratando o número de operações\n",
    "dados_2017['numero_de_operacoes'].replace('<= 15','15', inplace = True)\n",
    "dados_2017['numero_de_operacoes'] = pd.to_numeric(dados_2017['numero_de_operacoes'])\n",
    "\n",
    "#Filtrando somente registros de Cooperativas\n",
    "dados_2017 = dados_2017.query('tcb == \"Cooperativas\"')\n",
    "\n",
    "#Tratando o campo da carteira ativa\n",
    "dados_2017['carteira_ativa'] = dados_2017['carteira_ativa'].replace(',','.', regex=True)\n",
    "dados_2017['carteira_ativa'] = pd.to_numeric(dados_2017['carteira_ativa'])\n",
    "\n",
    "#Tratando o campo da data\n",
    "dados_2017['data_base'] = dados_2017['data_base'].replace('-','/', regex=True)\n",
    "dados_2017['data_base'] = pd.to_datetime(dados_2017['data_base'], format= \"%Y/%M/%d\")\n",
    "dados_2017['data_base'] = pd.to_datetime(dados_2017['data_base']).dt.normalize()\n",
    "\n",
    "dados_2017.info()\n",
    "dados_2017.to_csv('C://fontes_dados//operacoes_credito//dados_2017')\n",
    "\n"
   ]
  },
  {
   "cell_type": "code",
   "execution_count": 31,
   "id": "c9c06361",
   "metadata": {},
   "outputs": [
    {
     "name": "stdout",
     "output_type": "stream",
     "text": [
      "<class 'pandas.core.frame.DataFrame'>\n",
      "Int64Index: 1642274 entries, 4096 to 7417813\n",
      "Data columns (total 8 columns):\n",
      " #   Column               Non-Null Count    Dtype         \n",
      "---  ------               --------------    -----         \n",
      " 0   data_base            1642274 non-null  datetime64[ns]\n",
      " 1   uf                   1642274 non-null  object        \n",
      " 2   tcb                  1642274 non-null  object        \n",
      " 3   cliente              1642274 non-null  object        \n",
      " 4   ocupacao             1642274 non-null  object        \n",
      " 5   modalidade           1642274 non-null  object        \n",
      " 6   numero_de_operacoes  1642274 non-null  int64         \n",
      " 7   carteira_ativa       1642274 non-null  float64       \n",
      "dtypes: datetime64[ns](1), float64(1), int64(1), object(5)\n",
      "memory usage: 112.8+ MB\n"
     ]
    }
   ],
   "source": [
    "#Carregando arquivo do ano de 2018\n",
    "import pandas as pd\n",
    "dados_2018 = pd.read_csv('C://fontes_dados//operacoes_credito//2018//dados_credito_2018.csv',sep=';') \n",
    "\n",
    "#Removendo as colunas que se sabe que não serão utilizadas\n",
    "del dados_2018['Unnamed: 0']\n",
    "del dados_2018['sr']\n",
    "del dados_2018['cnae_secao']\n",
    "del dados_2018['cnae_subclasse']\n",
    "del dados_2018['origem']\n",
    "del dados_2018['indexador']\n",
    "del dados_2018['porte']\n",
    "del dados_2018['a_vencer_ate_90_dias']\n",
    "del dados_2018['a_vencer_de_91_ate_360_dias']\n",
    "del dados_2018['a_vencer_de_361_ate_1080_dias']   \n",
    "del dados_2018['a_vencer_de_1081_ate_1800_dias']  \n",
    "del dados_2018['a_vencer_de_1801_ate_5400_dias']  \n",
    "del dados_2018['a_vencer_acima_de_5400_dias']     \n",
    "del dados_2018['vencido_acima_de_15_dias']      \n",
    "del dados_2018['carteira_inadimplida_arrastada']\n",
    "del dados_2018['ativo_problematico']\n",
    "\n",
    "#Tratando o número de operações\n",
    "dados_2018['numero_de_operacoes'].replace('<= 15','15', inplace = True)\n",
    "dados_2018['numero_de_operacoes'] = pd.to_numeric(dados_2018['numero_de_operacoes'])\n",
    "\n",
    "#Filtrando somente registros de Cooperativas\n",
    "dados_2018 = dados_2018.query('tcb == \"Cooperativas\"')\n",
    "\n",
    "#Tratando o campo da carteira ativa\n",
    "dados_2018['carteira_ativa'] = dados_2018['carteira_ativa'].replace(',','.', regex=True)\n",
    "dados_2018['carteira_ativa'] = pd.to_numeric(dados_2018['carteira_ativa'])\n",
    "\n",
    "#Tratando o campo da data\n",
    "dados_2018['data_base'] = dados_2018['data_base'].replace('-','/', regex=True)\n",
    "dados_2018['data_base'] = pd.to_datetime(dados_2018['data_base'], format= \"%Y/%M/%d\")\n",
    "dados_2018['data_base'] = pd.to_datetime(dados_2018['data_base']).dt.normalize()\n",
    "\n",
    "dados_2018.info()\n",
    "dados_2018.to_csv('C://fontes_dados//operacoes_credito//dados_2018')\n",
    "\n"
   ]
  },
  {
   "cell_type": "code",
   "execution_count": 34,
   "id": "ba116254",
   "metadata": {},
   "outputs": [
    {
     "name": "stdout",
     "output_type": "stream",
     "text": [
      "<class 'pandas.core.frame.DataFrame'>\n",
      "Int64Index: 1851583 entries, 4022 to 7610762\n",
      "Data columns (total 8 columns):\n",
      " #   Column               Dtype         \n",
      "---  ------               -----         \n",
      " 0   data_base            datetime64[ns]\n",
      " 1   uf                   object        \n",
      " 2   tcb                  object        \n",
      " 3   cliente              object        \n",
      " 4   ocupacao             object        \n",
      " 5   modalidade           object        \n",
      " 6   numero_de_operacoes  int64         \n",
      " 7   carteira_ativa       float64       \n",
      "dtypes: datetime64[ns](1), float64(1), int64(1), object(5)\n",
      "memory usage: 127.1+ MB\n"
     ]
    }
   ],
   "source": [
    "#Carregando arquivo do ano de 2019\n",
    "import pandas as pd\n",
    "dados_2019 = pd.read_csv('C://fontes_dados//operacoes_credito//2019//dados_credito_2019.csv',sep=';') \n",
    "\n",
    "#Removendo as colunas que se sabe que não serão utilizadas\n",
    "del dados_2019['Unnamed: 0']\n",
    "del dados_2019['sr']\n",
    "del dados_2019['cnae_secao']\n",
    "del dados_2019['cnae_subclasse']\n",
    "del dados_2019['origem']\n",
    "del dados_2019['indexador']\n",
    "del dados_2019['porte']\n",
    "del dados_2019['a_vencer_ate_90_dias']\n",
    "del dados_2019['a_vencer_de_91_ate_360_dias']\n",
    "del dados_2019['a_vencer_de_361_ate_1080_dias']   \n",
    "del dados_2019['a_vencer_de_1081_ate_1800_dias']  \n",
    "del dados_2019['a_vencer_de_1801_ate_5400_dias']  \n",
    "del dados_2019['a_vencer_acima_de_5400_dias']     \n",
    "del dados_2019['vencido_acima_de_15_dias']      \n",
    "del dados_2019['carteira_inadimplida_arrastada']\n",
    "del dados_2019['ativo_problematico']\n",
    "\n",
    "#Tratando o número de operações\n",
    "dados_2019['numero_de_operacoes'].replace('<= 15','15', inplace = True)\n",
    "dados_2019['numero_de_operacoes'] = pd.to_numeric(dados_2019['numero_de_operacoes'])\n",
    "\n",
    "#Filtrando somente registros de Cooperativas\n",
    "dados_2019 = dados_2019.query('tcb == \"Cooperativas\"')\n",
    "\n",
    "#Tratando o campo da carteira ativa\n",
    "dados_2019['carteira_ativa'] = dados_2019['carteira_ativa'].replace(',','.', regex=True)\n",
    "dados_2019['carteira_ativa'] = pd.to_numeric(dados_2019['carteira_ativa'])\n",
    "\n",
    "#Tratando o campo da data\n",
    "dados_2019['data_base'] = dados_2019['data_base'].replace('-','/', regex=True)\n",
    "dados_2019['data_base'] = pd.to_datetime(dados_2019['data_base'], format= \"%Y/%M/%d\")\n",
    "dados_2019['data_base'] = pd.to_datetime(dados_2019['data_base']).dt.normalize()\n",
    "\n",
    "dados_2019.info()\n",
    "dados_2019.to_csv('C://fontes_dados//operacoes_credito//dados_2019')\n",
    "\n"
   ]
  },
  {
   "cell_type": "code",
   "execution_count": 33,
   "id": "edcbf878",
   "metadata": {},
   "outputs": [
    {
     "name": "stdout",
     "output_type": "stream",
     "text": [
      "<class 'pandas.core.frame.DataFrame'>\n",
      "Int64Index: 1642274 entries, 4096 to 7417813\n",
      "Data columns (total 8 columns):\n",
      " #   Column               Non-Null Count    Dtype         \n",
      "---  ------               --------------    -----         \n",
      " 0   data_base            1642274 non-null  datetime64[ns]\n",
      " 1   uf                   1642274 non-null  object        \n",
      " 2   tcb                  1642274 non-null  object        \n",
      " 3   cliente              1642274 non-null  object        \n",
      " 4   ocupacao             1642274 non-null  object        \n",
      " 5   modalidade           1642274 non-null  object        \n",
      " 6   numero_de_operacoes  1642274 non-null  int64         \n",
      " 7   carteira_ativa       1642274 non-null  float64       \n",
      "dtypes: datetime64[ns](1), float64(1), int64(1), object(5)\n",
      "memory usage: 112.8+ MB\n"
     ]
    }
   ],
   "source": [
    "#Carregando arquivo do ano de 2018\n",
    "import pandas as pd\n",
    "dados_2018 = pd.read_csv('C://fontes_dados//operacoes_credito//2018//dados_credito_2018.csv',sep=';') \n",
    "\n",
    "#Removendo as colunas que se sabe que não serão utilizadas\n",
    "del dados_2018['Unnamed: 0']\n",
    "del dados_2018['sr']\n",
    "del dados_2018['cnae_secao']\n",
    "del dados_2018['cnae_subclasse']\n",
    "del dados_2018['origem']\n",
    "del dados_2018['indexador']\n",
    "del dados_2018['porte']\n",
    "del dados_2018['a_vencer_ate_90_dias']\n",
    "del dados_2018['a_vencer_de_91_ate_360_dias']\n",
    "del dados_2018['a_vencer_de_361_ate_1080_dias']   \n",
    "del dados_2018['a_vencer_de_1081_ate_1800_dias']  \n",
    "del dados_2018['a_vencer_de_1801_ate_5400_dias']  \n",
    "del dados_2018['a_vencer_acima_de_5400_dias']     \n",
    "del dados_2018['vencido_acima_de_15_dias']      \n",
    "del dados_2018['carteira_inadimplida_arrastada']\n",
    "del dados_2018['ativo_problematico']\n",
    "\n",
    "#Tratando o número de operações\n",
    "dados_2018['numero_de_operacoes'].replace('<= 15','15', inplace = True)\n",
    "dados_2018['numero_de_operacoes'] = pd.to_numeric(dados_2018['numero_de_operacoes'])\n",
    "\n",
    "#Filtrando somente registros de Cooperativas\n",
    "dados_2018 = dados_2018.query('tcb == \"Cooperativas\"')\n",
    "\n",
    "#Tratando o campo da carteira ativa\n",
    "dados_2018['carteira_ativa'] = dados_2018['carteira_ativa'].replace(',','.', regex=True)\n",
    "dados_2018['carteira_ativa'] = pd.to_numeric(dados_2018['carteira_ativa'])\n",
    "\n",
    "#Tratando o campo da data\n",
    "dados_2018['data_base'] = dados_2018['data_base'].replace('-','/', regex=True)\n",
    "dados_2018['data_base'] = pd.to_datetime(dados_2018['data_base'], format= \"%Y/%M/%d\")\n",
    "dados_2018['data_base'] = pd.to_datetime(dados_2018['data_base']).dt.normalize()\n",
    "\n",
    "dados_2018.info()\n",
    "dados_2018.to_csv('C://fontes_dados//operacoes_credito//dados_2018')\n",
    "\n"
   ]
  },
  {
   "cell_type": "code",
   "execution_count": 35,
   "id": "3ee99043",
   "metadata": {},
   "outputs": [
    {
     "name": "stdout",
     "output_type": "stream",
     "text": [
      "<class 'pandas.core.frame.DataFrame'>\n",
      "Int64Index: 2095319 entries, 4216 to 8090569\n",
      "Data columns (total 8 columns):\n",
      " #   Column               Dtype         \n",
      "---  ------               -----         \n",
      " 0   data_base            datetime64[ns]\n",
      " 1   uf                   object        \n",
      " 2   tcb                  object        \n",
      " 3   cliente              object        \n",
      " 4   ocupacao             object        \n",
      " 5   modalidade           object        \n",
      " 6   numero_de_operacoes  int64         \n",
      " 7   carteira_ativa       float64       \n",
      "dtypes: datetime64[ns](1), float64(1), int64(1), object(5)\n",
      "memory usage: 143.9+ MB\n"
     ]
    }
   ],
   "source": [
    "#Carregando arquivo do ano de 2020\n",
    "import pandas as pd\n",
    "dados_2020 = pd.read_csv('C://fontes_dados//operacoes_credito//2020//dados_credito_2020.csv',sep=';') \n",
    "\n",
    "#Removendo as colunas que se sabe que não serão utilizadas\n",
    "del dados_2020['Unnamed: 0']\n",
    "del dados_2020['sr']\n",
    "del dados_2020['cnae_secao']\n",
    "del dados_2020['cnae_subclasse']\n",
    "del dados_2020['origem']\n",
    "del dados_2020['indexador']\n",
    "del dados_2020['porte']\n",
    "del dados_2020['a_vencer_ate_90_dias']\n",
    "del dados_2020['a_vencer_de_91_ate_360_dias']\n",
    "del dados_2020['a_vencer_de_361_ate_1080_dias']   \n",
    "del dados_2020['a_vencer_de_1081_ate_1800_dias']  \n",
    "del dados_2020['a_vencer_de_1801_ate_5400_dias']  \n",
    "del dados_2020['a_vencer_acima_de_5400_dias']     \n",
    "del dados_2020['vencido_acima_de_15_dias']      \n",
    "del dados_2020['carteira_inadimplida_arrastada']\n",
    "del dados_2020['ativo_problematico']\n",
    "\n",
    "#Tratando o número de operações\n",
    "dados_2020['numero_de_operacoes'].replace('<= 15','15', inplace = True)\n",
    "dados_2020['numero_de_operacoes'] = pd.to_numeric(dados_2020['numero_de_operacoes'])\n",
    "\n",
    "#Filtrando somente registros de Cooperativas\n",
    "dados_2020 = dados_2020.query('tcb == \"Cooperativas\"')\n",
    "\n",
    "#Tratando o campo da carteira ativa\n",
    "dados_2020['carteira_ativa'] = dados_2020['carteira_ativa'].replace(',','.', regex=True)\n",
    "dados_2020['carteira_ativa'] = pd.to_numeric(dados_2020['carteira_ativa'])\n",
    "\n",
    "#Tratando o campo da data\n",
    "dados_2020['data_base'] = dados_2020['data_base'].replace('-','/', regex=True)\n",
    "dados_2020['data_base'] = pd.to_datetime(dados_2020['data_base'], format= \"%Y/%M/%d\")\n",
    "dados_2020['data_base'] = pd.to_datetime(dados_2020['data_base']).dt.normalize()\n",
    "\n",
    "dados_2020.info()\n",
    "dados_2020.to_csv('C://fontes_dados//operacoes_credito//dados_2020')\n",
    "\n"
   ]
  },
  {
   "cell_type": "code",
   "execution_count": 36,
   "id": "10a5fc14",
   "metadata": {},
   "outputs": [
    {
     "name": "stdout",
     "output_type": "stream",
     "text": [
      "<class 'pandas.core.frame.DataFrame'>\n",
      "Int64Index: 2175491 entries, 4443 to 8262702\n",
      "Data columns (total 8 columns):\n",
      " #   Column               Dtype         \n",
      "---  ------               -----         \n",
      " 0   data_base            datetime64[ns]\n",
      " 1   uf                   object        \n",
      " 2   tcb                  object        \n",
      " 3   cliente              object        \n",
      " 4   ocupacao             object        \n",
      " 5   modalidade           object        \n",
      " 6   numero_de_operacoes  int64         \n",
      " 7   carteira_ativa       float64       \n",
      "dtypes: datetime64[ns](1), float64(1), int64(1), object(5)\n",
      "memory usage: 149.4+ MB\n"
     ]
    }
   ],
   "source": [
    "#Carregando arquivo do ano de 2021\n",
    "import pandas as pd\n",
    "dados_2021 = pd.read_csv('C://fontes_dados//operacoes_credito//2021//dados_credito_2021.csv',sep=';') \n",
    "\n",
    "#Removendo as colunas que se sabe que não serão utilizadas\n",
    "del dados_2021['Unnamed: 0']\n",
    "del dados_2021['sr']\n",
    "del dados_2021['cnae_secao']\n",
    "del dados_2021['cnae_subclasse']\n",
    "del dados_2021['origem']\n",
    "del dados_2021['indexador']\n",
    "del dados_2021['porte']\n",
    "del dados_2021['a_vencer_ate_90_dias']\n",
    "del dados_2021['a_vencer_de_91_ate_360_dias']\n",
    "del dados_2021['a_vencer_de_361_ate_1080_dias']   \n",
    "del dados_2021['a_vencer_de_1081_ate_1800_dias']  \n",
    "del dados_2021['a_vencer_de_1801_ate_5400_dias']  \n",
    "del dados_2021['a_vencer_acima_de_5400_dias']     \n",
    "del dados_2021['vencido_acima_de_15_dias']      \n",
    "del dados_2021['carteira_inadimplida_arrastada']\n",
    "del dados_2021['ativo_problematico']\n",
    "\n",
    "#Tratando o número de operações\n",
    "dados_2021['numero_de_operacoes'].replace('<= 15','15', inplace = True)\n",
    "dados_2021['numero_de_operacoes'] = pd.to_numeric(dados_2021['numero_de_operacoes'])\n",
    "\n",
    "#Filtrando somente registros de Cooperativas\n",
    "dados_2021 = dados_2021.query('tcb == \"Cooperativas\"')\n",
    "\n",
    "#Tratando o campo da carteira ativa\n",
    "dados_2021['carteira_ativa'] = dados_2021['carteira_ativa'].replace(',','.', regex=True)\n",
    "dados_2021['carteira_ativa'] = pd.to_numeric(dados_2021['carteira_ativa'])\n",
    "\n",
    "#Tratando o campo da data\n",
    "dados_2021['data_base'] = dados_2021['data_base'].replace('-','/', regex=True)\n",
    "dados_2021['data_base'] = pd.to_datetime(dados_2021['data_base'], format= \"%Y/%M/%d\")\n",
    "dados_2021['data_base'] = pd.to_datetime(dados_2021['data_base']).dt.normalize()\n",
    "\n",
    "dados_2021.info()\n",
    "dados_2021.to_csv('C://fontes_dados//operacoes_credito//dados_2021')\n",
    "\n"
   ]
  },
  {
   "cell_type": "code",
   "execution_count": null,
   "id": "cf5f29be",
   "metadata": {},
   "outputs": [],
   "source": [
    "#Unindo todos os datasets em um único\n",
    "dados_completos"
   ]
  },
  {
   "cell_type": "code",
   "execution_count": 55,
   "id": "6653041b",
   "metadata": {},
   "outputs": [],
   "source": [
    "\n",
    "agrupado_qtde_2012 = pd.DataFrame(dados_2012.groupby('uf')['numero_de_operacoes'].sum()).assign(ano=2012)\n",
    "agrupado_qtde_2013 = pd.DataFrame(dados_2013.groupby('uf')['numero_de_operacoes'].sum()).assign(ano=2013)\n",
    "agrupado_qtde_2014 = pd.DataFrame(dados_2014.groupby('uf')['numero_de_operacoes'].sum()).assign(ano=2014)\n",
    "agrupado_qtde_2015 = pd.DataFrame(dados_2015.groupby('uf')['numero_de_operacoes'].sum()).assign(ano=2015)\n",
    "agrupado_qtde_2016 = pd.DataFrame(dados_2016.groupby('uf')['numero_de_operacoes'].sum()).assign(ano=2016)\n",
    "agrupado_qtde_2017 = pd.DataFrame(dados_2017.groupby('uf')['numero_de_operacoes'].sum()).assign(ano=2017)\n",
    "agrupado_qtde_2018 = pd.DataFrame(dados_2018.groupby('uf')['numero_de_operacoes'].sum()).assign(ano=2018)\n",
    "agrupado_qtde_2019 = pd.DataFrame(dados_2019.groupby('uf')['numero_de_operacoes'].sum()).assign(ano=2019)\n",
    "agrupado_qtde_2020 = pd.DataFrame(dados_2020.groupby('uf')['numero_de_operacoes'].sum()).assign(ano=2020)\n",
    "agrupado_qtde_2021 = pd.DataFrame(dados_2021.groupby('uf')['numero_de_operacoes'].sum()).assign(ano=2021)\n",
    "\n",
    "agrupados_geral = pd.concat([agrupado_qtde_2012, \n",
    "                             agrupado_qtde_2013, \n",
    "                             agrupado_qtde_2014, \n",
    "                             agrupado_qtde_2015, \n",
    "                             agrupado_qtde_2016, \n",
    "                             agrupado_qtde_2017, \n",
    "                             agrupado_qtde_2018, \n",
    "                             agrupado_qtde_2019, \n",
    "                             agrupado_qtde_2020, \n",
    "                             agrupado_qtde_2021])\n",
    "\n",
    "agrupados_geral = agrupados_geral.reset_index()  "
   ]
  },
  {
   "cell_type": "code",
   "execution_count": 62,
   "id": "d41befcb",
   "metadata": {},
   "outputs": [],
   "source": [
    "agrupados_geral = pd.concat([agrupado_qtde_2012, \n",
    "                             agrupado_qtde_2013, \n",
    "                             agrupado_qtde_2014, \n",
    "                             agrupado_qtde_2015, \n",
    "                             agrupado_qtde_2016, \n",
    "                             agrupado_qtde_2017, \n",
    "                             agrupado_qtde_2018, \n",
    "                             agrupado_qtde_2019, \n",
    "                             agrupado_qtde_2020, \n",
    "                             agrupado_qtde_2021])\n",
    "\n",
    "agrupados_geral = agrupados_geral.reset_index()                  "
   ]
  },
  {
   "cell_type": "code",
   "execution_count": 72,
   "id": "cf5b6660",
   "metadata": {},
   "outputs": [
    {
     "data": {
      "text/html": [
       "<div>\n",
       "<style scoped>\n",
       "    .dataframe tbody tr th:only-of-type {\n",
       "        vertical-align: middle;\n",
       "    }\n",
       "\n",
       "    .dataframe tbody tr th {\n",
       "        vertical-align: top;\n",
       "    }\n",
       "\n",
       "    .dataframe thead th {\n",
       "        text-align: right;\n",
       "    }\n",
       "</style>\n",
       "<table border=\"1\" class=\"dataframe\">\n",
       "  <thead>\n",
       "    <tr style=\"text-align: right;\">\n",
       "      <th></th>\n",
       "      <th>ano</th>\n",
       "      <th>numero_de_operacoes</th>\n",
       "    </tr>\n",
       "  </thead>\n",
       "  <tbody>\n",
       "    <tr>\n",
       "      <th>0</th>\n",
       "      <td>2012</td>\n",
       "      <td>40017751</td>\n",
       "    </tr>\n",
       "    <tr>\n",
       "      <th>1</th>\n",
       "      <td>2013</td>\n",
       "      <td>75866976</td>\n",
       "    </tr>\n",
       "    <tr>\n",
       "      <th>2</th>\n",
       "      <td>2014</td>\n",
       "      <td>85021173</td>\n",
       "    </tr>\n",
       "    <tr>\n",
       "      <th>3</th>\n",
       "      <td>2015</td>\n",
       "      <td>93005704</td>\n",
       "    </tr>\n",
       "    <tr>\n",
       "      <th>4</th>\n",
       "      <td>2016</td>\n",
       "      <td>100406556</td>\n",
       "    </tr>\n",
       "    <tr>\n",
       "      <th>5</th>\n",
       "      <td>2017</td>\n",
       "      <td>109269246</td>\n",
       "    </tr>\n",
       "    <tr>\n",
       "      <th>6</th>\n",
       "      <td>2018</td>\n",
       "      <td>118272280</td>\n",
       "    </tr>\n",
       "    <tr>\n",
       "      <th>7</th>\n",
       "      <td>2019</td>\n",
       "      <td>137500248</td>\n",
       "    </tr>\n",
       "    <tr>\n",
       "      <th>8</th>\n",
       "      <td>2020</td>\n",
       "      <td>146352964</td>\n",
       "    </tr>\n",
       "    <tr>\n",
       "      <th>9</th>\n",
       "      <td>2021</td>\n",
       "      <td>151976845</td>\n",
       "    </tr>\n",
       "  </tbody>\n",
       "</table>\n",
       "</div>"
      ],
      "text/plain": [
       "    ano  numero_de_operacoes\n",
       "0  2012             40017751\n",
       "1  2013             75866976\n",
       "2  2014             85021173\n",
       "3  2015             93005704\n",
       "4  2016            100406556\n",
       "5  2017            109269246\n",
       "6  2018            118272280\n",
       "7  2019            137500248\n",
       "8  2020            146352964\n",
       "9  2021            151976845"
      ]
     },
     "execution_count": 72,
     "metadata": {},
     "output_type": "execute_result"
    }
   ],
   "source": [
    "agrupados_geral_ano = pd.DataFrame(agrupados_geral.groupby('ano')['numero_de_operacoes'].sum()).reset_index()     \n",
    "agrupados_geral_ano"
   ]
  },
  {
   "cell_type": "code",
   "execution_count": 78,
   "id": "6551d0e8",
   "metadata": {},
   "outputs": [
    {
     "name": "stdout",
     "output_type": "stream",
     "text": [
      "<class 'pandas.core.frame.DataFrame'>\n",
      "RangeIndex: 10 entries, 0 to 9\n",
      "Data columns (total 2 columns):\n",
      " #   Column               Non-Null Count  Dtype \n",
      "---  ------               --------------  ----- \n",
      " 0   ano                  10 non-null     object\n",
      " 1   numero_de_operacoes  10 non-null     int64 \n",
      "dtypes: int64(1), object(1)\n",
      "memory usage: 288.0+ bytes\n"
     ]
    }
   ],
   "source": [
    "agrupados_geral_ano['ano'] =  agrupados_geral_ano['ano'].astype(str)\n",
    "agrupados_geral_ano.info()"
   ]
  },
  {
   "cell_type": "code",
   "execution_count": 81,
   "id": "d4182f97",
   "metadata": {},
   "outputs": [
    {
     "data": {
      "image/png": "[encoded data removed]",
      "text/plain": [
       "<Figure size 1080x864 with 1 Axes>"
      ]
     },
     "metadata": {
      "needs_background": "light"
     },
     "output_type": "display_data"
    }
   ],
   "source": [
    "agrupados_geral_ano.hist(figsize=(15,12));"
   ]
  },
  {
   "cell_type": "code",
   "execution_count": 89,
   "id": "ec5f8e42",
   "metadata": {},
   "outputs": [
    {
     "data": {
      "text/plain": [
       "<AxesSubplot:xlabel='ano'>"
      ]
     },
     "execution_count": 89,
     "metadata": {},
     "output_type": "execute_result"
    },
    {
     "data": {
      "image/png": "[encoded data removed]",
      "text/plain": [
       "<Figure size 1152x432 with 1 Axes>"
      ]
     },
     "metadata": {
      "needs_background": "light"
     },
     "output_type": "display_data"
    }
   ],
   "source": [
    "agrupados_geral_ano.plot(x = 'ano',\n",
    "         y = ['numero_de_operacoes'], \n",
    "          kind = 'bar', \n",
    "          stacked=True, \n",
    "          legend=True, \n",
    "          figsize=(16, 6))"
   ]
  },
  {
   "cell_type": "code",
   "execution_count": 90,
   "id": "2b2c910c",
   "metadata": {},
   "outputs": [
    {
     "data": {
      "text/plain": [
       "<AxesSubplot:xlabel='ano'>"
      ]
     },
     "execution_count": 90,
     "metadata": {},
     "output_type": "execute_result"
    },
    {
     "data": {
      "image/png": "[encoded data removed]",
      "text/plain": [
       "<Figure size 1152x432 with 1 Axes>"
      ]
     },
     "metadata": {
      "needs_background": "light"
     },
     "output_type": "display_data"
    }
   ],
   "source": [
    "agrupados_geral_ano.plot(x = 'ano',\n",
    "         y = ['numero_de_operacoes'], \n",
    "          kind = 'line', \n",
    "          stacked=True, \n",
    "          legend=True, \n",
    "          figsize=(16, 6))"
   ]
  },
  {
   "cell_type": "code",
   "execution_count": 107,
   "id": "55002b9f",
   "metadata": {},
   "outputs": [],
   "source": [
    "agrupado_qtde_2012 = pd.DataFrame(dados_2012.groupby('uf')['carteira_ativa'].sum()).assign(ano=2012)\n",
    "agrupado_qtde_2013 = pd.DataFrame(dados_2013.groupby('uf')['carteira_ativa'].sum()).assign(ano=2013)\n",
    "agrupado_qtde_2014 = pd.DataFrame(dados_2014.groupby('uf')['carteira_ativa'].sum()).assign(ano=2014)\n",
    "agrupado_qtde_2015 = pd.DataFrame(dados_2015.groupby('uf')['carteira_ativa'].sum()).assign(ano=2015)\n",
    "agrupado_qtde_2016 = pd.DataFrame(dados_2016.groupby('uf')['carteira_ativa'].sum()).assign(ano=2016)\n",
    "agrupado_qtde_2017 = pd.DataFrame(dados_2017.groupby('uf')['carteira_ativa'].sum()).assign(ano=2017)\n",
    "agrupado_qtde_2018 = pd.DataFrame(dados_2018.groupby('uf')['carteira_ativa'].sum()).assign(ano=2018)\n",
    "agrupado_qtde_2019 = pd.DataFrame(dados_2019.groupby('uf')['carteira_ativa'].sum()).assign(ano=2019)\n",
    "agrupado_qtde_2020 = pd.DataFrame(dados_2020.groupby('uf')['carteira_ativa'].sum()).assign(ano=2020)\n",
    "agrupado_qtde_2021 = pd.DataFrame(dados_2021.groupby('uf')['carteira_ativa'].sum()).assign(ano=2021)\n",
    "\n",
    "agrupados_geral_valores = pd.concat([agrupado_qtde_2012, \n",
    "                             agrupado_qtde_2013, \n",
    "                             agrupado_qtde_2014, \n",
    "                             agrupado_qtde_2015, \n",
    "                             agrupado_qtde_2016, \n",
    "                             agrupado_qtde_2017, \n",
    "                             agrupado_qtde_2018, \n",
    "                             agrupado_qtde_2019, \n",
    "                             agrupado_qtde_2020, \n",
    "                             agrupado_qtde_2021])\n",
    "\n",
    "agrupados_geral_valores = agrupados_geral_valores.reset_index() \n",
    "\n",
    "agrupados_geral_valores_ano = pd.DataFrame(agrupados_geral_valores.groupby('ano')['carteira_ativa'].sum()).reset_index()     \n",
    "\n",
    "agrupados_geral_valores_ano['ano'] =  agrupados_geral_valores_ano['ano'].astype(str)\n"
   ]
  },
  {
   "cell_type": "code",
   "execution_count": null,
   "id": "16fe5d83",
   "metadata": {},
   "outputs": [],
   "source": []
  },
  {
   "cell_type": "code",
   "execution_count": 108,
   "id": "61c29ed2",
   "metadata": {},
   "outputs": [
    {
     "data": {
      "text/plain": [
       "<AxesSubplot:xlabel='ano'>"
      ]
     },
     "execution_count": 108,
     "metadata": {},
     "output_type": "execute_result"
    },
    {
     "data": {
      "image/png": "[encoded data removed]",
      "text/plain": [
       "<Figure size 1152x432 with 1 Axes>"
      ]
     },
     "metadata": {
      "needs_background": "light"
     },
     "output_type": "display_data"
    }
   ],
   "source": [
    "agrupados_geral_valores_ano.plot(x = 'ano',\n",
    "         y = ['carteira_ativa'], \n",
    "          kind = 'bar', \n",
    "          stacked=True, \n",
    "          legend=True, \n",
    "          figsize=(16, 6))"
   ]
  },
  {
   "cell_type": "code",
   "execution_count": 101,
   "id": "97524be5",
   "metadata": {},
   "outputs": [
    {
     "data": {
      "text/plain": [
       "<AxesSubplot:xlabel='ano'>"
      ]
     },
     "execution_count": 101,
     "metadata": {},
     "output_type": "execute_result"
    },
    {
     "data": {
      "image/png": "[encoded data removed]",
      "text/plain": [
       "<Figure size 1152x432 with 1 Axes>"
      ]
     },
     "metadata": {
      "needs_background": "light"
     },
     "output_type": "display_data"
    }
   ],
   "source": [
    "agrupados_geral_valores_ano.plot(x = 'ano',\n",
    "         y = ['carteira_ativa'], \n",
    "          kind = 'line', \n",
    "          stacked=True, \n",
    "          legend=True, \n",
    "          figsize=(16, 6))"
   ]
  },
  {
   "cell_type": "code",
   "execution_count": 109,
   "id": "2ba8677e",
   "metadata": {},
   "outputs": [
    {
     "data": {
      "text/html": [
       "<div>\n",
       "<style scoped>\n",
       "    .dataframe tbody tr th:only-of-type {\n",
       "        vertical-align: middle;\n",
       "    }\n",
       "\n",
       "    .dataframe tbody tr th {\n",
       "        vertical-align: top;\n",
       "    }\n",
       "\n",
       "    .dataframe thead th {\n",
       "        text-align: right;\n",
       "    }\n",
       "</style>\n",
       "<table border=\"1\" class=\"dataframe\">\n",
       "  <thead>\n",
       "    <tr style=\"text-align: right;\">\n",
       "      <th></th>\n",
       "      <th>ano</th>\n",
       "      <th>numero_de_operacoes</th>\n",
       "      <th>carteira_ativa</th>\n",
       "    </tr>\n",
       "  </thead>\n",
       "  <tbody>\n",
       "    <tr>\n",
       "      <th>0</th>\n",
       "      <td>2012</td>\n",
       "      <td>40017751</td>\n",
       "      <td>3.020621e+11</td>\n",
       "    </tr>\n",
       "    <tr>\n",
       "      <th>1</th>\n",
       "      <td>2013</td>\n",
       "      <td>75866976</td>\n",
       "      <td>6.129045e+11</td>\n",
       "    </tr>\n",
       "    <tr>\n",
       "      <th>2</th>\n",
       "      <td>2014</td>\n",
       "      <td>85021173</td>\n",
       "      <td>7.385335e+11</td>\n",
       "    </tr>\n",
       "    <tr>\n",
       "      <th>3</th>\n",
       "      <td>2015</td>\n",
       "      <td>93005704</td>\n",
       "      <td>8.531138e+11</td>\n",
       "    </tr>\n",
       "    <tr>\n",
       "      <th>4</th>\n",
       "      <td>2016</td>\n",
       "      <td>100406556</td>\n",
       "      <td>9.467800e+11</td>\n",
       "    </tr>\n",
       "    <tr>\n",
       "      <th>5</th>\n",
       "      <td>2017</td>\n",
       "      <td>109269246</td>\n",
       "      <td>1.059807e+12</td>\n",
       "    </tr>\n",
       "    <tr>\n",
       "      <th>6</th>\n",
       "      <td>2018</td>\n",
       "      <td>118272280</td>\n",
       "      <td>1.267748e+12</td>\n",
       "    </tr>\n",
       "    <tr>\n",
       "      <th>7</th>\n",
       "      <td>2019</td>\n",
       "      <td>137500248</td>\n",
       "      <td>1.595178e+12</td>\n",
       "    </tr>\n",
       "    <tr>\n",
       "      <th>8</th>\n",
       "      <td>2020</td>\n",
       "      <td>146352964</td>\n",
       "      <td>2.054440e+12</td>\n",
       "    </tr>\n",
       "    <tr>\n",
       "      <th>9</th>\n",
       "      <td>2021</td>\n",
       "      <td>151976845</td>\n",
       "      <td>2.589876e+12</td>\n",
       "    </tr>\n",
       "  </tbody>\n",
       "</table>\n",
       "</div>"
      ],
      "text/plain": [
       "    ano  numero_de_operacoes  carteira_ativa\n",
       "0  2012             40017751    3.020621e+11\n",
       "1  2013             75866976    6.129045e+11\n",
       "2  2014             85021173    7.385335e+11\n",
       "3  2015             93005704    8.531138e+11\n",
       "4  2016            100406556    9.467800e+11\n",
       "5  2017            109269246    1.059807e+12\n",
       "6  2018            118272280    1.267748e+12\n",
       "7  2019            137500248    1.595178e+12\n",
       "8  2020            146352964    2.054440e+12\n",
       "9  2021            151976845    2.589876e+12"
      ]
     },
     "execution_count": 109,
     "metadata": {},
     "output_type": "execute_result"
    }
   ],
   "source": [
    "quantidades_x_valores_ano = pd.merge(agrupados_geral_ano,agrupados_geral_valores_ano,how = 'inner', on = 'ano')\n",
    "\n",
    "import matplotlib.pyplot as pltquantidades_x_valores_ano"
   ]
  },
  {
   "cell_type": "code",
   "execution_count": 116,
   "id": "a3a04586",
   "metadata": {},
   "outputs": [
    {
     "data": {
      "text/plain": [
       "<AxesSubplot:xlabel='ano'>"
      ]
     },
     "execution_count": 116,
     "metadata": {},
     "output_type": "execute_result"
    },
    {
     "data": {
      "image/png": "[encoded data removed]",
      "text/plain": [
       "<Figure size 1152x432 with 1 Axes>"
      ]
     },
     "metadata": {
      "needs_background": "light"
     },
     "output_type": "display_data"
    }
   ],
   "source": [
    "cores = ['blue', 'green']\n",
    "quantidades_x_valores_ano.plot(x = 'ano', \n",
    "                       y = ['numero_de_operacoes','carteira_ativa'], \n",
    "                      kind = 'line', \n",
    "                      stacked=True, \n",
    "                      legend=True, \n",
    "                      color = cores,\n",
    "                      figsize=(16, 6))\n"
   ]
  },
  {
   "cell_type": "code",
   "execution_count": 113,
   "id": "613501b0",
   "metadata": {},
   "outputs": [
    {
     "data": {
      "text/plain": [
       "<AxesSubplot:>"
      ]
     },
     "execution_count": 113,
     "metadata": {},
     "output_type": "execute_result"
    },
    {
     "data": {
      "image/png": "[encoded data removed]",
      "text/plain": [
       "<Figure size 1152x432 with 1 Axes>"
      ]
     },
     "metadata": {
      "needs_background": "light"
     },
     "output_type": "display_data"
    }
   ],
   "source": [
    "quantidades_x_valores_ano.plot.bar(stacked=True,figsize=(16, 6))"
   ]
  },
  {
   "cell_type": "code",
   "execution_count": 119,
   "id": "7779d4b4",
   "metadata": {},
   "outputs": [
    {
     "data": {
      "text/plain": [
       "<AxesSubplot:xlabel='ano'>"
      ]
     },
     "execution_count": 119,
     "metadata": {},
     "output_type": "execute_result"
    },
    {
     "data": {
      "image/png": "[encoded data removed]",
      "text/plain": [
       "<Figure size 1152x432 with 1 Axes>"
      ]
     },
     "metadata": {
      "needs_background": "light"
     },
     "output_type": "display_data"
    }
   ],
   "source": [
    "agrupados_geral.plot(x = 'ano',y = 'numero_de_operacoes',figsize=(16, 6))"
   ]
  },
  {
   "cell_type": "code",
   "execution_count": 172,
   "id": "95e12327",
   "metadata": {},
   "outputs": [
    {
     "name": "stdout",
     "output_type": "stream",
     "text": [
      "<class 'pandas.core.frame.DataFrame'>\n",
      "Int64Index: 13989201 entries, 2994 to 8262702\n",
      "Data columns (total 8 columns):\n",
      " #   Column               Dtype         \n",
      "---  ------               -----         \n",
      " 0   data_base            datetime64[ns]\n",
      " 1   uf                   object        \n",
      " 2   tcb                  object        \n",
      " 3   cliente              object        \n",
      " 4   ocupacao             object        \n",
      " 5   modalidade           object        \n",
      " 6   numero_de_operacoes  int64         \n",
      " 7   carteira_ativa       float64       \n",
      "dtypes: datetime64[ns](1), float64(1), int64(1), object(5)\n",
      "memory usage: 960.6+ MB\n"
     ]
    }
   ],
   "source": [
    "todos_dados = pd.concat([dados_2012, \n",
    "                         dados_2013, \n",
    "                         dados_2014, \n",
    "                         dados_2015, \n",
    "                         dados_2016, \n",
    "                         dados_2017, \n",
    "                         dados_2018, \n",
    "                         dados_2019, \n",
    "                         dados_2020, \n",
    "                         dados_2021])\n",
    "\n",
    "todos_dados.info()"
   ]
  },
  {
   "cell_type": "code",
   "execution_count": 121,
   "id": "8c22bb3e",
   "metadata": {},
   "outputs": [
    {
     "data": {
      "text/html": [
       "<div>\n",
       "<style scoped>\n",
       "    .dataframe tbody tr th:only-of-type {\n",
       "        vertical-align: middle;\n",
       "    }\n",
       "\n",
       "    .dataframe tbody tr th {\n",
       "        vertical-align: top;\n",
       "    }\n",
       "\n",
       "    .dataframe thead th {\n",
       "        text-align: right;\n",
       "    }\n",
       "</style>\n",
       "<table border=\"1\" class=\"dataframe\">\n",
       "  <thead>\n",
       "    <tr style=\"text-align: right;\">\n",
       "      <th></th>\n",
       "      <th>data_base</th>\n",
       "      <th>uf</th>\n",
       "      <th>tcb</th>\n",
       "      <th>cliente</th>\n",
       "      <th>ocupacao</th>\n",
       "      <th>modalidade</th>\n",
       "      <th>numero_de_operacoes</th>\n",
       "      <th>carteira_ativa</th>\n",
       "    </tr>\n",
       "  </thead>\n",
       "  <tbody>\n",
       "    <tr>\n",
       "      <th>2994</th>\n",
       "      <td>2012-01-30</td>\n",
       "      <td>AC</td>\n",
       "      <td>Cooperativas</td>\n",
       "      <td>PF</td>\n",
       "      <td>PF - Aposentado/pensionista</td>\n",
       "      <td>PF - Outros créditos</td>\n",
       "      <td>15</td>\n",
       "      <td>197769.70</td>\n",
       "    </tr>\n",
       "    <tr>\n",
       "      <th>2995</th>\n",
       "      <td>2012-01-30</td>\n",
       "      <td>AC</td>\n",
       "      <td>Cooperativas</td>\n",
       "      <td>PF</td>\n",
       "      <td>PF - Aposentado/pensionista</td>\n",
       "      <td>PF - Empréstimo com consignação em folha</td>\n",
       "      <td>15</td>\n",
       "      <td>44589.70</td>\n",
       "    </tr>\n",
       "    <tr>\n",
       "      <th>2996</th>\n",
       "      <td>2012-01-30</td>\n",
       "      <td>AC</td>\n",
       "      <td>Cooperativas</td>\n",
       "      <td>PF</td>\n",
       "      <td>PF - Aposentado/pensionista</td>\n",
       "      <td>PF - Empréstimo com consignação em folha</td>\n",
       "      <td>15</td>\n",
       "      <td>4453.96</td>\n",
       "    </tr>\n",
       "    <tr>\n",
       "      <th>2997</th>\n",
       "      <td>2012-01-30</td>\n",
       "      <td>AC</td>\n",
       "      <td>Cooperativas</td>\n",
       "      <td>PF</td>\n",
       "      <td>PF - Aposentado/pensionista</td>\n",
       "      <td>PF - Empréstimo sem consignação em folha</td>\n",
       "      <td>15</td>\n",
       "      <td>37972.31</td>\n",
       "    </tr>\n",
       "    <tr>\n",
       "      <th>2998</th>\n",
       "      <td>2012-01-30</td>\n",
       "      <td>AC</td>\n",
       "      <td>Cooperativas</td>\n",
       "      <td>PF</td>\n",
       "      <td>PF - Aposentado/pensionista</td>\n",
       "      <td>PF - Empréstimo com consignação em folha</td>\n",
       "      <td>15</td>\n",
       "      <td>18447.75</td>\n",
       "    </tr>\n",
       "    <tr>\n",
       "      <th>...</th>\n",
       "      <td>...</td>\n",
       "      <td>...</td>\n",
       "      <td>...</td>\n",
       "      <td>...</td>\n",
       "      <td>...</td>\n",
       "      <td>...</td>\n",
       "      <td>...</td>\n",
       "      <td>...</td>\n",
       "    </tr>\n",
       "    <tr>\n",
       "      <th>8262698</th>\n",
       "      <td>2021-01-30</td>\n",
       "      <td>TO</td>\n",
       "      <td>Cooperativas</td>\n",
       "      <td>PJ</td>\n",
       "      <td>-</td>\n",
       "      <td>PJ - Capital de giro</td>\n",
       "      <td>15</td>\n",
       "      <td>42058.36</td>\n",
       "    </tr>\n",
       "    <tr>\n",
       "      <th>8262699</th>\n",
       "      <td>2021-01-30</td>\n",
       "      <td>TO</td>\n",
       "      <td>Cooperativas</td>\n",
       "      <td>PJ</td>\n",
       "      <td>-</td>\n",
       "      <td>PJ - Capital de giro</td>\n",
       "      <td>15</td>\n",
       "      <td>15325.74</td>\n",
       "    </tr>\n",
       "    <tr>\n",
       "      <th>8262700</th>\n",
       "      <td>2021-01-30</td>\n",
       "      <td>TO</td>\n",
       "      <td>Cooperativas</td>\n",
       "      <td>PJ</td>\n",
       "      <td>-</td>\n",
       "      <td>PJ - Capital de giro rotativo</td>\n",
       "      <td>15</td>\n",
       "      <td>10.58</td>\n",
       "    </tr>\n",
       "    <tr>\n",
       "      <th>8262701</th>\n",
       "      <td>2021-01-30</td>\n",
       "      <td>TO</td>\n",
       "      <td>Cooperativas</td>\n",
       "      <td>PJ</td>\n",
       "      <td>-</td>\n",
       "      <td>PJ - Investimento</td>\n",
       "      <td>15</td>\n",
       "      <td>123221.52</td>\n",
       "    </tr>\n",
       "    <tr>\n",
       "      <th>8262702</th>\n",
       "      <td>2021-01-30</td>\n",
       "      <td>TO</td>\n",
       "      <td>Cooperativas</td>\n",
       "      <td>PJ</td>\n",
       "      <td>-</td>\n",
       "      <td>PJ - Capital de giro rotativo</td>\n",
       "      <td>15</td>\n",
       "      <td>94.44</td>\n",
       "    </tr>\n",
       "  </tbody>\n",
       "</table>\n",
       "<p>13989201 rows × 8 columns</p>\n",
       "</div>"
      ],
      "text/plain": [
       "         data_base  uf           tcb cliente                     ocupacao  \\\n",
       "2994    2012-01-30  AC  Cooperativas      PF  PF - Aposentado/pensionista   \n",
       "2995    2012-01-30  AC  Cooperativas      PF  PF - Aposentado/pensionista   \n",
       "2996    2012-01-30  AC  Cooperativas      PF  PF - Aposentado/pensionista   \n",
       "2997    2012-01-30  AC  Cooperativas      PF  PF - Aposentado/pensionista   \n",
       "2998    2012-01-30  AC  Cooperativas      PF  PF - Aposentado/pensionista   \n",
       "...            ...  ..           ...     ...                          ...   \n",
       "8262698 2021-01-30  TO  Cooperativas      PJ                            -   \n",
       "8262699 2021-01-30  TO  Cooperativas      PJ                            -   \n",
       "8262700 2021-01-30  TO  Cooperativas      PJ                            -   \n",
       "8262701 2021-01-30  TO  Cooperativas      PJ                            -   \n",
       "8262702 2021-01-30  TO  Cooperativas      PJ                            -   \n",
       "\n",
       "                                       modalidade  numero_de_operacoes  \\\n",
       "2994                         PF - Outros créditos                   15   \n",
       "2995     PF - Empréstimo com consignação em folha                   15   \n",
       "2996     PF - Empréstimo com consignação em folha                   15   \n",
       "2997     PF - Empréstimo sem consignação em folha                   15   \n",
       "2998     PF - Empréstimo com consignação em folha                   15   \n",
       "...                                           ...                  ...   \n",
       "8262698                      PJ - Capital de giro                   15   \n",
       "8262699                      PJ - Capital de giro                   15   \n",
       "8262700             PJ - Capital de giro rotativo                   15   \n",
       "8262701                         PJ - Investimento                   15   \n",
       "8262702             PJ - Capital de giro rotativo                   15   \n",
       "\n",
       "         carteira_ativa  \n",
       "2994          197769.70  \n",
       "2995           44589.70  \n",
       "2996            4453.96  \n",
       "2997           37972.31  \n",
       "2998           18447.75  \n",
       "...                 ...  \n",
       "8262698        42058.36  \n",
       "8262699        15325.74  \n",
       "8262700           10.58  \n",
       "8262701       123221.52  \n",
       "8262702           94.44  \n",
       "\n",
       "[13989201 rows x 8 columns]"
      ]
     },
     "execution_count": 121,
     "metadata": {},
     "output_type": "execute_result"
    }
   ],
   "source": [
    "todos_dados"
   ]
  },
  {
   "cell_type": "code",
   "execution_count": 122,
   "id": "93af744a",
   "metadata": {},
   "outputs": [
    {
     "data": {
      "text/html": [
       "<div>\n",
       "<style scoped>\n",
       "    .dataframe tbody tr th:only-of-type {\n",
       "        vertical-align: middle;\n",
       "    }\n",
       "\n",
       "    .dataframe tbody tr th {\n",
       "        vertical-align: top;\n",
       "    }\n",
       "\n",
       "    .dataframe thead th {\n",
       "        text-align: right;\n",
       "    }\n",
       "</style>\n",
       "<table border=\"1\" class=\"dataframe\">\n",
       "  <thead>\n",
       "    <tr style=\"text-align: right;\">\n",
       "      <th></th>\n",
       "      <th>carteira_ativa</th>\n",
       "    </tr>\n",
       "    <tr>\n",
       "      <th>uf</th>\n",
       "      <th></th>\n",
       "    </tr>\n",
       "  </thead>\n",
       "  <tbody>\n",
       "    <tr>\n",
       "      <th>AC</th>\n",
       "      <td>2.154416e+10</td>\n",
       "    </tr>\n",
       "    <tr>\n",
       "      <th>AL</th>\n",
       "      <td>4.512076e+10</td>\n",
       "    </tr>\n",
       "    <tr>\n",
       "      <th>AM</th>\n",
       "      <td>2.237307e+10</td>\n",
       "    </tr>\n",
       "    <tr>\n",
       "      <th>AP</th>\n",
       "      <td>4.234354e+09</td>\n",
       "    </tr>\n",
       "    <tr>\n",
       "      <th>BA</th>\n",
       "      <td>1.230140e+11</td>\n",
       "    </tr>\n",
       "    <tr>\n",
       "      <th>CE</th>\n",
       "      <td>5.218705e+10</td>\n",
       "    </tr>\n",
       "    <tr>\n",
       "      <th>DF</th>\n",
       "      <td>1.076065e+11</td>\n",
       "    </tr>\n",
       "    <tr>\n",
       "      <th>ES</th>\n",
       "      <td>4.130477e+11</td>\n",
       "    </tr>\n",
       "    <tr>\n",
       "      <th>GO</th>\n",
       "      <td>5.208936e+11</td>\n",
       "    </tr>\n",
       "    <tr>\n",
       "      <th>MA</th>\n",
       "      <td>2.329465e+10</td>\n",
       "    </tr>\n",
       "    <tr>\n",
       "      <th>MG</th>\n",
       "      <td>1.511414e+12</td>\n",
       "    </tr>\n",
       "    <tr>\n",
       "      <th>MS</th>\n",
       "      <td>3.094310e+11</td>\n",
       "    </tr>\n",
       "    <tr>\n",
       "      <th>MT</th>\n",
       "      <td>8.762546e+11</td>\n",
       "    </tr>\n",
       "    <tr>\n",
       "      <th>PA</th>\n",
       "      <td>9.313358e+10</td>\n",
       "    </tr>\n",
       "    <tr>\n",
       "      <th>PB</th>\n",
       "      <td>1.337280e+11</td>\n",
       "    </tr>\n",
       "    <tr>\n",
       "      <th>PE</th>\n",
       "      <td>8.928658e+10</td>\n",
       "    </tr>\n",
       "    <tr>\n",
       "      <th>PI</th>\n",
       "      <td>8.813820e+09</td>\n",
       "    </tr>\n",
       "    <tr>\n",
       "      <th>PR</th>\n",
       "      <td>1.806395e+12</td>\n",
       "    </tr>\n",
       "    <tr>\n",
       "      <th>RJ</th>\n",
       "      <td>1.594688e+11</td>\n",
       "    </tr>\n",
       "    <tr>\n",
       "      <th>RN</th>\n",
       "      <td>4.358156e+10</td>\n",
       "    </tr>\n",
       "    <tr>\n",
       "      <th>RO</th>\n",
       "      <td>2.442427e+11</td>\n",
       "    </tr>\n",
       "    <tr>\n",
       "      <th>RR</th>\n",
       "      <td>2.514932e+09</td>\n",
       "    </tr>\n",
       "    <tr>\n",
       "      <th>RS</th>\n",
       "      <td>2.137776e+12</td>\n",
       "    </tr>\n",
       "    <tr>\n",
       "      <th>SC</th>\n",
       "      <td>1.683266e+12</td>\n",
       "    </tr>\n",
       "    <tr>\n",
       "      <th>SE</th>\n",
       "      <td>1.890050e+10</td>\n",
       "    </tr>\n",
       "    <tr>\n",
       "      <th>SP</th>\n",
       "      <td>1.517998e+12</td>\n",
       "    </tr>\n",
       "    <tr>\n",
       "      <th>TO</th>\n",
       "      <td>5.092311e+10</td>\n",
       "    </tr>\n",
       "  </tbody>\n",
       "</table>\n",
       "</div>"
      ],
      "text/plain": [
       "    carteira_ativa\n",
       "uf                \n",
       "AC    2.154416e+10\n",
       "AL    4.512076e+10\n",
       "AM    2.237307e+10\n",
       "AP    4.234354e+09\n",
       "BA    1.230140e+11\n",
       "CE    5.218705e+10\n",
       "DF    1.076065e+11\n",
       "ES    4.130477e+11\n",
       "GO    5.208936e+11\n",
       "MA    2.329465e+10\n",
       "MG    1.511414e+12\n",
       "MS    3.094310e+11\n",
       "MT    8.762546e+11\n",
       "PA    9.313358e+10\n",
       "PB    1.337280e+11\n",
       "PE    8.928658e+10\n",
       "PI    8.813820e+09\n",
       "PR    1.806395e+12\n",
       "RJ    1.594688e+11\n",
       "RN    4.358156e+10\n",
       "RO    2.442427e+11\n",
       "RR    2.514932e+09\n",
       "RS    2.137776e+12\n",
       "SC    1.683266e+12\n",
       "SE    1.890050e+10\n",
       "SP    1.517998e+12\n",
       "TO    5.092311e+10"
      ]
     },
     "execution_count": 122,
     "metadata": {},
     "output_type": "execute_result"
    }
   ],
   "source": [
    "agrupados_uf = pd.DataFrame(todos_dados.groupby('uf')['carteira_ativa'].sum())\n",
    "agrupados_uf = agrupados_uf.reset_index()"
   ]
  },
  {
   "cell_type": "code",
   "execution_count": 126,
   "id": "4aa77126",
   "metadata": {},
   "outputs": [],
   "source": [
    "agrupados_uf = agrupados_ano.reset_index()"
   ]
  },
  {
   "cell_type": "code",
   "execution_count": 133,
   "id": "d74048a9",
   "metadata": {},
   "outputs": [
    {
     "data": {
      "text/plain": [
       "<AxesSubplot:xlabel='uf'>"
      ]
     },
     "execution_count": 133,
     "metadata": {},
     "output_type": "execute_result"
    },
    {
     "data": {
      "image/png": "[encoded data removed]",
      "text/plain": [
       "<Figure size 1152x432 with 1 Axes>"
      ]
     },
     "metadata": {
      "needs_background": "light"
     },
     "output_type": "display_data"
    }
   ],
   "source": [
    "agrupados_uf = pd.DataFrame(todos_dados.groupby('uf')['carteira_ativa'].sum())\n",
    "agrupados_uf = agrupados_uf.reset_index()\n",
    "agrupados_uf = agrupados_uf.sort_values(by=['carteira_ativa'])\n",
    "agrupados_uf.plot(x='uf', y='carteira_ativa', kind='bar', stacked=True,figsize=(16, 6))"
   ]
  },
  {
   "cell_type": "code",
   "execution_count": 163,
   "id": "54a50bfc",
   "metadata": {},
   "outputs": [
    {
     "data": {
      "text/plain": [
       "array(['PF - Outros créditos', 'PF - Empréstimo com consignação em folha',\n",
       "       'PF - Empréstimo sem consignação em folha', 'PF - Veículos',\n",
       "       'PF - Cartão de crédito', 'PF - Rural e agroindustrial',\n",
       "       'PJ - Capital de giro rotativo', 'PJ - Outros créditos',\n",
       "       'PJ - Investimento', 'PJ - Capital de giro',\n",
       "       'PJ - Operações com recebíveis',\n",
       "       'PJ - Financiamento de infraestrutura/desenvolvimento/projeto e outros créditos',\n",
       "       'PJ - Rural e agroindustrial', 'PF - Habitacional'], dtype=object)"
      ]
     },
     "execution_count": 163,
     "metadata": {},
     "output_type": "execute_result"
    }
   ],
   "source": [
    "todos_dados['modalidade'].unique()"
   ]
  },
  {
   "cell_type": "code",
   "execution_count": 165,
   "id": "9a0f4715",
   "metadata": {},
   "outputs": [
    {
     "data": {
      "text/plain": [
       "<AxesSubplot:xlabel='modalidade'>"
      ]
     },
     "execution_count": 165,
     "metadata": {},
     "output_type": "execute_result"
    },
    {
     "data": {
      "image/png": "[encoded data removed]",
      "text/plain": [
       "<Figure size 1152x432 with 1 Axes>"
      ]
     },
     "metadata": {
      "needs_background": "light"
     },
     "output_type": "display_data"
    }
   ],
   "source": [
    "todos_modalidade = pd.DataFrame(todos_dados.groupby('modalidade')['carteira_ativa'].sum())\n",
    "todos_modalidade = todos_modalidade.reset_index()\n",
    "todos_modalidade = todos_modalidade.sort_values(by=['carteira_ativa'])\n",
    "todos_modalidade.plot(x='modalidade', y='carteira_ativa', kind='bar', color = 'green', stacked=True,figsize=(16, 6))\n"
   ]
  },
  {
   "cell_type": "code",
   "execution_count": 159,
   "id": "645007f7",
   "metadata": {},
   "outputs": [
    {
     "data": {
      "text/plain": [
       "<AxesSubplot:xlabel='data_base'>"
      ]
     },
     "execution_count": 159,
     "metadata": {},
     "output_type": "execute_result"
    },
    {
     "data": {
      "image/png": "[encoded data removed]",
      "text/plain": [
       "<Figure size 1152x432 with 1 Axes>"
      ]
     },
     "metadata": {
      "needs_background": "light"
     },
     "output_type": "display_data"
    }
   ],
   "source": []
  },
  {
   "cell_type": "code",
   "execution_count": 187,
   "id": "98336a8e",
   "metadata": {},
   "outputs": [
    {
     "data": {
      "text/plain": [
       "<AxesSubplot:xlabel='cliente'>"
      ]
     },
     "execution_count": 187,
     "metadata": {},
     "output_type": "execute_result"
    },
    {
     "data": {
      "image/png": "[encoded data removed]",
      "text/plain": [
       "<Figure size 1152x432 with 1 Axes>"
      ]
     },
     "metadata": {
      "needs_background": "light"
     },
     "output_type": "display_data"
    }
   ],
   "source": [
    "tipo_pessoa = pd.DataFrame(todos_dados.groupby('cliente')['carteira_ativa'].sum())\n",
    "tipo_pessoa = tipo_pessoa.reset_index()\n",
    "tipo_pessoa = tipo_pessoa.sort_values(by=['carteira_ativa'])\n",
    "tipo_pessoa.plot(x='cliente', y='carteira_ativa', kind='bar', color = 'blue', stacked=True,figsize=(16, 6))\n"
   ]
  },
  {
   "cell_type": "code",
   "execution_count": 188,
   "id": "3b8f6e64",
   "metadata": {},
   "outputs": [
    {
     "name": "stdout",
     "output_type": "stream",
     "text": [
      "Valor máximo contratado...........:  2491590036.05\n",
      "Valor mínimo contratado...........:  0.36\n",
      "Valor médio contratado............:  859265.9120268021\n",
      "Amplitude.........................:  2491590035.69\n",
      "Variância valor contratado........:  107103447153740.97\n",
      "Desvio padrão valor contratado....:  10349079.531713966\n",
      "Mediana valor contratado..........:  51967.06\n",
      "Moda valor contratado.............:  0    5000.0\n",
      "dtype: float64\n"
     ]
    }
   ],
   "source": [
    "print('Valor máximo contratado...........: ', todos_dados['carteira_ativa'].max())\n",
    "print('Valor mínimo contratado...........: ', todos_dados['carteira_ativa'].min())\n",
    "print('Valor médio contratado............: ', todos_dados['carteira_ativa'].mean())\n",
    "print('Amplitude.........................: ', todos_dados['carteira_ativa'].max() - todos_dados['carteira_ativa'].min())\n",
    "print('Variância valor contratado........: ', todos_dados['carteira_ativa'].var())\n",
    "print('Desvio padrão valor contratado....: ', todos_dados['carteira_ativa'].std())\n",
    "print('Mediana valor contratado..........: ', todos_dados['carteira_ativa'].median())\n",
    "print('Moda valor contratado.............: ', todos_dados['carteira_ativa'].mode())"
   ]
  },
  {
   "cell_type": "code",
   "execution_count": 162,
   "id": "49136003",
   "metadata": {},
   "outputs": [
    {
     "data": {
      "text/html": [
       "<div>\n",
       "<style scoped>\n",
       "    .dataframe tbody tr th:only-of-type {\n",
       "        vertical-align: middle;\n",
       "    }\n",
       "\n",
       "    .dataframe tbody tr th {\n",
       "        vertical-align: top;\n",
       "    }\n",
       "\n",
       "    .dataframe thead th {\n",
       "        text-align: right;\n",
       "    }\n",
       "</style>\n",
       "<table border=\"1\" class=\"dataframe\">\n",
       "  <thead>\n",
       "    <tr style=\"text-align: right;\">\n",
       "      <th></th>\n",
       "      <th>data_base</th>\n",
       "      <th>uf</th>\n",
       "      <th>tcb</th>\n",
       "      <th>cliente</th>\n",
       "      <th>ocupacao</th>\n",
       "      <th>modalidade</th>\n",
       "      <th>numero_de_operacoes</th>\n",
       "      <th>carteira_ativa</th>\n",
       "    </tr>\n",
       "  </thead>\n",
       "  <tbody>\n",
       "    <tr>\n",
       "      <th>2994</th>\n",
       "      <td>2012</td>\n",
       "      <td>AC</td>\n",
       "      <td>Cooperativas</td>\n",
       "      <td>PF</td>\n",
       "      <td>PF - Aposentado/pensionista</td>\n",
       "      <td>PF - Outros créditos</td>\n",
       "      <td>15</td>\n",
       "      <td>197769.70</td>\n",
       "    </tr>\n",
       "    <tr>\n",
       "      <th>2995</th>\n",
       "      <td>2012</td>\n",
       "      <td>AC</td>\n",
       "      <td>Cooperativas</td>\n",
       "      <td>PF</td>\n",
       "      <td>PF - Aposentado/pensionista</td>\n",
       "      <td>PF - Empréstimo com consignação em folha</td>\n",
       "      <td>15</td>\n",
       "      <td>44589.70</td>\n",
       "    </tr>\n",
       "    <tr>\n",
       "      <th>2996</th>\n",
       "      <td>2012</td>\n",
       "      <td>AC</td>\n",
       "      <td>Cooperativas</td>\n",
       "      <td>PF</td>\n",
       "      <td>PF - Aposentado/pensionista</td>\n",
       "      <td>PF - Empréstimo com consignação em folha</td>\n",
       "      <td>15</td>\n",
       "      <td>4453.96</td>\n",
       "    </tr>\n",
       "    <tr>\n",
       "      <th>2997</th>\n",
       "      <td>2012</td>\n",
       "      <td>AC</td>\n",
       "      <td>Cooperativas</td>\n",
       "      <td>PF</td>\n",
       "      <td>PF - Aposentado/pensionista</td>\n",
       "      <td>PF - Empréstimo sem consignação em folha</td>\n",
       "      <td>15</td>\n",
       "      <td>37972.31</td>\n",
       "    </tr>\n",
       "    <tr>\n",
       "      <th>2998</th>\n",
       "      <td>2012</td>\n",
       "      <td>AC</td>\n",
       "      <td>Cooperativas</td>\n",
       "      <td>PF</td>\n",
       "      <td>PF - Aposentado/pensionista</td>\n",
       "      <td>PF - Empréstimo com consignação em folha</td>\n",
       "      <td>15</td>\n",
       "      <td>18447.75</td>\n",
       "    </tr>\n",
       "    <tr>\n",
       "      <th>...</th>\n",
       "      <td>...</td>\n",
       "      <td>...</td>\n",
       "      <td>...</td>\n",
       "      <td>...</td>\n",
       "      <td>...</td>\n",
       "      <td>...</td>\n",
       "      <td>...</td>\n",
       "      <td>...</td>\n",
       "    </tr>\n",
       "    <tr>\n",
       "      <th>8262698</th>\n",
       "      <td>2021</td>\n",
       "      <td>TO</td>\n",
       "      <td>Cooperativas</td>\n",
       "      <td>PJ</td>\n",
       "      <td>-</td>\n",
       "      <td>PJ - Capital de giro</td>\n",
       "      <td>15</td>\n",
       "      <td>42058.36</td>\n",
       "    </tr>\n",
       "    <tr>\n",
       "      <th>8262699</th>\n",
       "      <td>2021</td>\n",
       "      <td>TO</td>\n",
       "      <td>Cooperativas</td>\n",
       "      <td>PJ</td>\n",
       "      <td>-</td>\n",
       "      <td>PJ - Capital de giro</td>\n",
       "      <td>15</td>\n",
       "      <td>15325.74</td>\n",
       "    </tr>\n",
       "    <tr>\n",
       "      <th>8262700</th>\n",
       "      <td>2021</td>\n",
       "      <td>TO</td>\n",
       "      <td>Cooperativas</td>\n",
       "      <td>PJ</td>\n",
       "      <td>-</td>\n",
       "      <td>PJ - Capital de giro rotativo</td>\n",
       "      <td>15</td>\n",
       "      <td>10.58</td>\n",
       "    </tr>\n",
       "    <tr>\n",
       "      <th>8262701</th>\n",
       "      <td>2021</td>\n",
       "      <td>TO</td>\n",
       "      <td>Cooperativas</td>\n",
       "      <td>PJ</td>\n",
       "      <td>-</td>\n",
       "      <td>PJ - Investimento</td>\n",
       "      <td>15</td>\n",
       "      <td>123221.52</td>\n",
       "    </tr>\n",
       "    <tr>\n",
       "      <th>8262702</th>\n",
       "      <td>2021</td>\n",
       "      <td>TO</td>\n",
       "      <td>Cooperativas</td>\n",
       "      <td>PJ</td>\n",
       "      <td>-</td>\n",
       "      <td>PJ - Capital de giro rotativo</td>\n",
       "      <td>15</td>\n",
       "      <td>94.44</td>\n",
       "    </tr>\n",
       "  </tbody>\n",
       "</table>\n",
       "<p>13989201 rows × 8 columns</p>\n",
       "</div>"
      ],
      "text/plain": [
       "        data_base  uf           tcb cliente                     ocupacao  \\\n",
       "2994         2012  AC  Cooperativas      PF  PF - Aposentado/pensionista   \n",
       "2995         2012  AC  Cooperativas      PF  PF - Aposentado/pensionista   \n",
       "2996         2012  AC  Cooperativas      PF  PF - Aposentado/pensionista   \n",
       "2997         2012  AC  Cooperativas      PF  PF - Aposentado/pensionista   \n",
       "2998         2012  AC  Cooperativas      PF  PF - Aposentado/pensionista   \n",
       "...           ...  ..           ...     ...                          ...   \n",
       "8262698      2021  TO  Cooperativas      PJ                            -   \n",
       "8262699      2021  TO  Cooperativas      PJ                            -   \n",
       "8262700      2021  TO  Cooperativas      PJ                            -   \n",
       "8262701      2021  TO  Cooperativas      PJ                            -   \n",
       "8262702      2021  TO  Cooperativas      PJ                            -   \n",
       "\n",
       "                                       modalidade  numero_de_operacoes  \\\n",
       "2994                         PF - Outros créditos                   15   \n",
       "2995     PF - Empréstimo com consignação em folha                   15   \n",
       "2996     PF - Empréstimo com consignação em folha                   15   \n",
       "2997     PF - Empréstimo sem consignação em folha                   15   \n",
       "2998     PF - Empréstimo com consignação em folha                   15   \n",
       "...                                           ...                  ...   \n",
       "8262698                      PJ - Capital de giro                   15   \n",
       "8262699                      PJ - Capital de giro                   15   \n",
       "8262700             PJ - Capital de giro rotativo                   15   \n",
       "8262701                         PJ - Investimento                   15   \n",
       "8262702             PJ - Capital de giro rotativo                   15   \n",
       "\n",
       "         carteira_ativa  \n",
       "2994          197769.70  \n",
       "2995           44589.70  \n",
       "2996            4453.96  \n",
       "2997           37972.31  \n",
       "2998           18447.75  \n",
       "...                 ...  \n",
       "8262698        42058.36  \n",
       "8262699        15325.74  \n",
       "8262700           10.58  \n",
       "8262701       123221.52  \n",
       "8262702           94.44  \n",
       "\n",
       "[13989201 rows x 8 columns]"
      ]
     },
     "execution_count": 162,
     "metadata": {},
     "output_type": "execute_result"
    }
   ],
   "source": [
    "todos_dados"
   ]
  },
  {
   "cell_type": "code",
   "execution_count": null,
   "id": "81b51026",
   "metadata": {},
   "outputs": [],
   "source": []
  }
 ],
 "metadata": {
  "kernelspec": {
   "display_name": "Python 3",
   "language": "python",
   "name": "python3"
  },
  "language_info": {
   "codemirror_mode": {
    "name": "ipython",
    "version": 3
   },
   "file_extension": ".py",
   "mimetype": "text/x-python",
   "name": "python",
   "nbconvert_exporter": "python",
   "pygments_lexer": "ipython3",
   "version": "3.8.8"
  }
 },
 "nbformat": 4,
 "nbformat_minor": 5
}
