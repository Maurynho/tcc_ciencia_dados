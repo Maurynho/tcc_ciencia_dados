{
 "cells": [
  {
   "cell_type": "code",
   "execution_count": 11,
   "id": "b275b096",
   "metadata": {},
   "outputs": [],
   "source": [
    "#Parte 1 - importar a biblioteca urllib3 e gerar uma conexão para realizar uma requisição GET no site\n",
    "import urllib3\n",
    "url = 'https://dados.gov.br/dataset/scr_data'\n",
    "conexao = urllib3.PoolManager()\n",
    "retorno = conexao.request('GET',url)"
   ]
  },
  {
   "cell_type": "code",
   "execution_count": 12,
   "id": "47cd8c64",
   "metadata": {},
   "outputs": [],
   "source": [
    "#Parte 2 - importar a biblioteca BeautifulSoup para tratar melhor o retorno da requisição\n",
    "from bs4 import BeautifulSoup\n",
    "pagina = BeautifulSoup(retorno.data,\"html.parser\")\n"
   ]
  },
  {
   "cell_type": "code",
   "execution_count": 13,
   "id": "58acd705",
   "metadata": {},
   "outputs": [
    {
     "data": {
      "text/plain": [
       "['http://landpage-h.cgu.gov.br/dadosabertos/index.php?url=https://www.bcb.gov.br/content/estabilidadefinanceira/scr/scr.data/tutorial.pdf',\n",
       " 'http://landpage-h.cgu.gov.br/dadosabertos/index.php?url=https://www.bcb.gov.br/content/estabilidadefinanceira/scr/scr.data/metodologia.pdf',\n",
       " 'http://landpage-h.cgu.gov.br/dadosabertos/index.php?url=https://www.bcb.gov.br/pda/desig/planilha_2012.zip',\n",
       " 'http://landpage-h.cgu.gov.br/dadosabertos/index.php?url=https://www.bcb.gov.br/pda/desig/planilha_2013.zip',\n",
       " 'http://landpage-h.cgu.gov.br/dadosabertos/index.php?url=https://www.bcb.gov.br/pda/desig/planilha_2014.zip',\n",
       " 'http://landpage-h.cgu.gov.br/dadosabertos/index.php?url=https://www.bcb.gov.br/pda/desig/planilha_2015.zip',\n",
       " 'http://landpage-h.cgu.gov.br/dadosabertos/index.php?url=https://www.bcb.gov.br/pda/desig/planilha_2016.zip',\n",
       " 'http://landpage-h.cgu.gov.br/dadosabertos/index.php?url=https://www.bcb.gov.br/pda/desig/planilha_2017.zip',\n",
       " 'http://landpage-h.cgu.gov.br/dadosabertos/index.php?url=https://www.bcb.gov.br/pda/desig/planilha_2018.zip',\n",
       " 'http://landpage-h.cgu.gov.br/dadosabertos/index.php?url=https://www.bcb.gov.br/pda/desig/planilha_2019.zip',\n",
       " 'http://landpage-h.cgu.gov.br/dadosabertos/index.php?url=https://www.bcb.gov.br/pda/desig/planilha_2020.zip',\n",
       " 'http://landpage-h.cgu.gov.br/dadosabertos/index.php?url=https://www.bcb.gov.br/pda/desig/planilha_2021.zip']"
      ]
     },
     "execution_count": 13,
     "metadata": {},
     "output_type": "execute_result"
    }
   ],
   "source": [
    "#Parte 3 - Varrendo o retorno da página buscando por todas TAGs de hiperlink onde a classe é resource-url-analytics.\n",
    "#          Adicionando o retorno a uma lista para poder manipular depois\n",
    "dado = []\n",
    "for link in pagina.find_all('a',class_ = 'resource-url-analytics'):\n",
    "    dado.append(link.get('href'))\n",
    "\n",
    "dado"
   ]
  },
  {
   "cell_type": "code",
   "execution_count": 15,
   "id": "1b063142",
   "metadata": {},
   "outputs": [],
   "source": [
    "del dado[0:2]"
   ]
  },
  {
   "cell_type": "code",
   "execution_count": 16,
   "id": "3b88daa4",
   "metadata": {},
   "outputs": [
    {
     "data": {
      "text/plain": [
       "['http://landpage-h.cgu.gov.br/dadosabertos/index.php?url=https://www.bcb.gov.br/pda/desig/planilha_2012.zip',\n",
       " 'http://landpage-h.cgu.gov.br/dadosabertos/index.php?url=https://www.bcb.gov.br/pda/desig/planilha_2013.zip',\n",
       " 'http://landpage-h.cgu.gov.br/dadosabertos/index.php?url=https://www.bcb.gov.br/pda/desig/planilha_2014.zip',\n",
       " 'http://landpage-h.cgu.gov.br/dadosabertos/index.php?url=https://www.bcb.gov.br/pda/desig/planilha_2015.zip',\n",
       " 'http://landpage-h.cgu.gov.br/dadosabertos/index.php?url=https://www.bcb.gov.br/pda/desig/planilha_2016.zip',\n",
       " 'http://landpage-h.cgu.gov.br/dadosabertos/index.php?url=https://www.bcb.gov.br/pda/desig/planilha_2017.zip',\n",
       " 'http://landpage-h.cgu.gov.br/dadosabertos/index.php?url=https://www.bcb.gov.br/pda/desig/planilha_2018.zip',\n",
       " 'http://landpage-h.cgu.gov.br/dadosabertos/index.php?url=https://www.bcb.gov.br/pda/desig/planilha_2019.zip',\n",
       " 'http://landpage-h.cgu.gov.br/dadosabertos/index.php?url=https://www.bcb.gov.br/pda/desig/planilha_2020.zip',\n",
       " 'http://landpage-h.cgu.gov.br/dadosabertos/index.php?url=https://www.bcb.gov.br/pda/desig/planilha_2021.zip']"
      ]
     },
     "execution_count": 16,
     "metadata": {},
     "output_type": "execute_result"
    }
   ],
   "source": [
    "dado"
   ]
  },
  {
   "cell_type": "code",
   "execution_count": 7,
   "id": "b778c025",
   "metadata": {},
   "outputs": [
    {
     "name": "stdout",
     "output_type": "stream",
     "text": [
      "Collecting wget\n",
      "  Downloading wget-3.2.zip (10 kB)\n",
      "Building wheels for collected packages: wget\n",
      "  Building wheel for wget (setup.py): started\n",
      "  Building wheel for wget (setup.py): finished with status 'done'\n",
      "  Created wheel for wget: filename=wget-3.2-py3-none-any.whl size=9680 sha256=0e377cb2d4d8d56f3436e338c1dc1a3906af0c4aca71a1c9b7a45ac295dac5a1\n",
      "  Stored in directory: c:\\users\\maury\\appdata\\local\\pip\\cache\\wheels\\bd\\a8\\c3\\3cf2c14a1837a4e04bd98631724e81f33f462d86a1d895fae0\n",
      "Successfully built wget\n",
      "Installing collected packages: wget\n",
      "Successfully installed wget-3.2\n"
     ]
    }
   ],
   "source": [
    "!pip install wget"
   ]
  },
  {
   "cell_type": "code",
   "execution_count": 8,
   "id": "468f490b",
   "metadata": {},
   "outputs": [],
   "source": [
    "#Parte 4 - Baixando cada um dos arquivos zipados de dados\n",
    "import wget\n",
    "caminho_destino = 'c://fontes_dados//operacoes_credito//'"
   ]
  },
  {
   "cell_type": "code",
   "execution_count": null,
   "id": "1fdcebd0",
   "metadata": {},
   "outputs": [],
   "source": [
    "for item in dado[2:]:\n",
    "    url_origem = item[56:]\n",
    "    wget.download(url_origem,caminho_destino + item[89:])"
   ]
  },
  {
   "cell_type": "code",
   "execution_count": 74,
   "id": "c5966294",
   "metadata": {},
   "outputs": [
    {
     "name": "stdout",
     "output_type": "stream",
     "text": [
      "Origem {} - Destino {} c://fontes_dados//dados//planilha_2012.zip c://fontes_dados//dados//2012\n",
      "Origem {} - Destino {} c://fontes_dados//dados//planilha_2013.zip c://fontes_dados//dados//2013\n",
      "Origem {} - Destino {} c://fontes_dados//dados//planilha_2014.zip c://fontes_dados//dados//2014\n",
      "Origem {} - Destino {} c://fontes_dados//dados//planilha_2015.zip c://fontes_dados//dados//2015\n",
      "Origem {} - Destino {} c://fontes_dados//dados//planilha_2016.zip c://fontes_dados//dados//2016\n",
      "Origem {} - Destino {} c://fontes_dados//dados//planilha_2017.zip c://fontes_dados//dados//2017\n",
      "Origem {} - Destino {} c://fontes_dados//dados//planilha_2018.zip c://fontes_dados//dados//2018\n",
      "Origem {} - Destino {} c://fontes_dados//dados//planilha_2019.zip c://fontes_dados//dados//2019\n",
      "Origem {} - Destino {} c://fontes_dados//dados//planilha_2020.zip c://fontes_dados//dados//2020\n",
      "Origem {} - Destino {} c://fontes_dados//dados//planilha_2021.zip c://fontes_dados//dados//2021\n"
     ]
    }
   ],
   "source": [
    "import zipfile\n",
    "caminho_origem = 'c://fontes_dados//dados//'\n",
    "caminho_destino = 'c://fontes_dados//dados//'\n",
    "\n",
    "for diretorio in dado[2:]:\n",
    "    zipfile.ZipFile(caminho_origem + diretorio[89:]).extractall(caminho_destino + diretorio[-8:-4])\n",
    "    print(\"Origem {} - Destino {}\",caminho_origem + diretorio[89:],caminho_destino + diretorio[-8:-4])"
   ]
  },
  {
   "cell_type": "code",
   "execution_count": null,
   "id": "e433f5a9",
   "metadata": {},
   "outputs": [],
   "source": []
  }
 ],
 "metadata": {
  "kernelspec": {
   "display_name": "Python 3",
   "language": "python",
   "name": "python3"
  },
  "language_info": {
   "codemirror_mode": {
    "name": "ipython",
    "version": 3
   },
   "file_extension": ".py",
   "mimetype": "text/x-python",
   "name": "python",
   "nbconvert_exporter": "python",
   "pygments_lexer": "ipython3",
   "version": "3.8.8"
  }
 },
 "nbformat": 4,
 "nbformat_minor": 5
}
